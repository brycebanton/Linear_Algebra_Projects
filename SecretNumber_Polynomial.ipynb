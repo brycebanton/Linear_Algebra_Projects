{
  "nbformat": 4,
  "nbformat_minor": 0,
  "metadata": {
    "colab": {
      "name": "SecretNumber_Polynomial.ipynb",
      "provenance": [],
      "authorship_tag": "ABX9TyMi2ubqGimUPi9X7hdcPZh9",
      "include_colab_link": true
    },
    "kernelspec": {
      "name": "python3",
      "display_name": "Python 3"
    }
  },
  "cells": [
    {
      "cell_type": "markdown",
      "metadata": {
        "id": "view-in-github",
        "colab_type": "text"
      },
      "source": [
        "<a href=\"https://colab.research.google.com/github/brycebanton/Linear_Algebra_Projects/blob/main/SecretNumber_Polynomial.ipynb\" target=\"_parent\"><img src=\"https://colab.research.google.com/assets/colab-badge.svg\" alt=\"Open In Colab\"/></a>"
      ]
    },
    {
      "cell_type": "code",
      "metadata": {
        "id": "MXWCqDcmbFOL"
      },
      "source": [
        "import matplotlib.pyplot as plt\r\n",
        "from sympy import Poly\r\n",
        "import sympy as sym\r\n",
        "import numpy as np\r\n",
        "from numpy import c_\r\n",
        "\r\n",
        "# We'll specify that x and t are variables:\r\n",
        "x, t = sym.symbols('x, t')\r\n",
        "\r\n",
        "ll = \"loaded\""
      ],
      "execution_count": 1,
      "outputs": []
    },
    {
      "cell_type": "code",
      "metadata": {
        "colab": {
          "base_uri": "https://localhost:8080/"
        },
        "id": "22FOgHTnbLfQ",
        "outputId": "41a477c4-44a1-498e-ce7c-acc8900f5edb"
      },
      "source": [
        "lll = \" correctly!\"\r\n",
        "\r\n",
        "def rref(matrix):\r\n",
        "    A = np.array(matrix, dtype=np.float64)\r\n",
        "    \r\n",
        "    r = 0 #row\r\n",
        "    c = 0 #column\r\n",
        "\r\n",
        "    (maxr, maxc) = A.shape\r\n",
        "\r\n",
        "    prev_row_pivot = -1   # The previous row with a leading term:\r\n",
        "    tmp_pivot_row = -1\r\n",
        "    this_pivot_row = -1\r\n",
        "\r\n",
        "    for c in range(maxc):  # go through each column\r\n",
        "      tmp_pivot_row = -1  # reset the tmp pivot row\r\n",
        "      this_pivot_row = -1  # reset this pivot row\r\n",
        "      for r in range(maxr):  # Find the leading term in this column below prev_row_pivot\r\n",
        "        if ((r > prev_row_pivot) and (A[r][c] != 0.0)):\r\n",
        "          tmp_pivot_row = r  # find the new pivot row\r\n",
        "      if (tmp_pivot_row > -1):  # we found a candidate for the leading term:\r\n",
        "        #swap row this_pivot_row with (prev_row_pivot + 1)\r\n",
        "        A[[tmp_pivot_row, prev_row_pivot+1]] = A[[prev_row_pivot + 1, tmp_pivot_row]]\r\n",
        "        #set this_pivot_row to prev_row_pivot+1\r\n",
        "        this_pivot_row = prev_row_pivot + 1\r\n",
        "        #Now, normalize the row based on the pivot value:\r\n",
        "        A[ this_pivot_row ] = A[ this_pivot_row ] / A[ this_pivot_row ][c]\r\n",
        "        #Then, use this row to force 0's above and below the pivot entry:\r\n",
        "        #subtract multiples of of the this_pivot_row row from the others\r\n",
        "        for r_ in range(len(A)):\r\n",
        "            if r_ != this_pivot_row:\r\n",
        "                A[r_] = A[r_] - A[this_pivot_row] * A[r_][c] / A[this_pivot_row][c]\r\n",
        "        prev_row_pivot = this_pivot_row\r\n",
        "    return A    \r\n",
        "    \r\n",
        "    \r\n",
        "\r\n",
        "print(\">> The page \", ll, lll)"
      ],
      "execution_count": 2,
      "outputs": [
        {
          "output_type": "stream",
          "text": [
            ">> The page  loaded  correctly!\n"
          ],
          "name": "stdout"
        }
      ]
    },
    {
      "cell_type": "markdown",
      "metadata": {
        "id": "WUqungb2bT9E"
      },
      "source": [
        "# Set up the secret number"
      ]
    },
    {
      "cell_type": "markdown",
      "metadata": {
        "id": "UrQfvst_bXLe"
      },
      "source": [
        "You'll encode a secret number $s$ into a 4th or 5th degree polynomial as its vertical intercept.\r\n",
        "\r\n",
        "Once you've chosen $s$, then create a 4th or 5th degree polynomial $f$ such that the vertical intercept is $s$."
      ]
    },
    {
      "cell_type": "code",
      "metadata": {
        "colab": {
          "base_uri": "https://localhost:8080/",
          "height": 38
        },
        "id": "GBUQv7-_bLpi",
        "outputId": "6d16d036-20bc-4ac5-844a-db6ee7ff418f"
      },
      "source": [
        "# the secret number is s:\r\n",
        "\r\n",
        "s = 14\r\n",
        "\r\n",
        "p = Poly(14+2*x + 3*x**18, x, domain='RR')\r\n",
        "\r\n",
        "p"
      ],
      "execution_count": 3,
      "outputs": [
        {
          "output_type": "execute_result",
          "data": {
            "text/latex": "$\\displaystyle \\operatorname{Poly}{\\left( 3.0 x^{18} + 2.0 x + 14.0, x, domain=\\mathbb{R} \\right)}$",
            "text/plain": [
              "Poly(3.0*x**18 + 2.0*x + 14.0, x, domain='RR')"
            ]
          },
          "metadata": {
            "tags": []
          },
          "execution_count": 3
        }
      ]
    },
    {
      "cell_type": "code",
      "metadata": {
        "colab": {
          "base_uri": "https://localhost:8080/",
          "height": 36
        },
        "id": "QtjBPOoAbLsV",
        "outputId": "b182c81f-d3e6-4755-97ec-a632a44de9c4"
      },
      "source": [
        "#  Evaluate polynomial at 0:\r\n",
        "p.eval(x, 2.1)\r\n",
        "\r\n",
        "# Check that this is your secret number:"
      ],
      "execution_count": 4,
      "outputs": [
        {
          "output_type": "execute_result",
          "data": {
            "text/latex": "$\\displaystyle 1892660.57719015$",
            "text/plain": [
              "1892660.57719015"
            ]
          },
          "metadata": {
            "tags": []
          },
          "execution_count": 4
        }
      ]
    },
    {
      "cell_type": "markdown",
      "metadata": {
        "id": "m3OVD9KNbhON"
      },
      "source": [
        "# Generate your data points\r\n",
        "\r\n",
        "Use this code to generate the data points for your polynomial.  Write teh data on the second page of your handout.  \r\n",
        "\r\n",
        "Writing \r\n",
        "\r\n",
        "```\r\n",
        "p.eval(x, 3)\r\n",
        "```\r\n",
        "\r\n",
        "will evaluate $p$ when $x = 3$.  Just change the $3$ to any value to evaluate $p$ at that input.\r\n",
        "\r\n",
        "Remember:  Keep your secret number and polynomial hidden."
      ]
    },
    {
      "cell_type": "code",
      "metadata": {
        "colab": {
          "base_uri": "https://localhost:8080/",
          "height": 36
        },
        "id": "qj27If2fbLuw",
        "outputId": "8fb016d3-5dfa-4ecf-b52c-7911168a4aa3"
      },
      "source": [
        "p.eval(x, 3)"
      ],
      "execution_count": 5,
      "outputs": [
        {
          "output_type": "execute_result",
          "data": {
            "text/latex": "$\\displaystyle 1162261487.0$",
            "text/plain": [
              "1162261487.00000"
            ]
          },
          "metadata": {
            "tags": []
          },
          "execution_count": 5
        }
      ]
    },
    {
      "cell_type": "markdown",
      "metadata": {
        "id": "HIeeLIMsbpGI"
      },
      "source": [
        "#  Decode the polynomial from another group\r\n",
        "\r\n",
        "In this section, we set up a linear system to find the polynomial and the secret number which was given to us by another group.\r\n",
        "\r\n",
        "First, set up a linear algebra system to find the polynomial on the handout and then enter the matrix here.  You may have to adjust the size of the matrix below to accommodate your data."
      ]
    },
    {
      "cell_type": "code",
      "metadata": {
        "id": "9jnWCznUbLxi"
      },
      "source": [
        "# create the matrix:\r\n",
        "A = np.matrix([[5, 6, 2],\r\n",
        "               [4, 7, 19],\r\n",
        "               [0, 3, 12]])\r\n",
        " \r\n",
        "# create the vector for the right hand side:\r\n",
        "b = np.matrix([[-1], [2], [1]])\r\n",
        "\r\n",
        "#Make sure the system looks appropriate:\r\n",
        "\r\n",
        "print(np.c_[A,b])"
      ],
      "execution_count": null,
      "outputs": []
    },
    {
      "cell_type": "markdown",
      "metadata": {
        "id": "Gm1y9npMbu9V"
      },
      "source": [
        "##  Solve using Row Operations:\r\n",
        "\r\n",
        "We'll solve the augmented matrix  $\\left( A \\, | \\, \\vec{b} \\right)$ using the function\r\n",
        "\r\n",
        "```\r\n",
        "rref(np.c_[A,b])\r\n",
        "```\r\n",
        "\r\n",
        "to provide the reduced row echelon form of the matrix system $\\left(A \\, | \\, \\vec{b} \\right)$."
      ]
    },
    {
      "cell_type": "code",
      "metadata": {
        "colab": {
          "base_uri": "https://localhost:8080/",
          "height": 169
        },
        "id": "0QnMWSsjbL2K",
        "outputId": "e13b142c-e43f-48c0-beb1-4da634d06816"
      },
      "source": [
        "print(rref(np.c_[A,b]))"
      ],
      "execution_count": 6,
      "outputs": [
        {
          "output_type": "error",
          "ename": "NameError",
          "evalue": "ignored",
          "traceback": [
            "\u001b[0;31m---------------------------------------------------------------------------\u001b[0m",
            "\u001b[0;31mNameError\u001b[0m                                 Traceback (most recent call last)",
            "\u001b[0;32m<ipython-input-6-a3fa788d0774>\u001b[0m in \u001b[0;36m<module>\u001b[0;34m()\u001b[0m\n\u001b[0;32m----> 1\u001b[0;31m \u001b[0mprint\u001b[0m\u001b[0;34m(\u001b[0m\u001b[0mrref\u001b[0m\u001b[0;34m(\u001b[0m\u001b[0mnp\u001b[0m\u001b[0;34m.\u001b[0m\u001b[0mc_\u001b[0m\u001b[0;34m[\u001b[0m\u001b[0mA\u001b[0m\u001b[0;34m,\u001b[0m\u001b[0mb\u001b[0m\u001b[0;34m]\u001b[0m\u001b[0;34m)\u001b[0m\u001b[0;34m)\u001b[0m\u001b[0;34m\u001b[0m\u001b[0;34m\u001b[0m\u001b[0m\n\u001b[0m",
            "\u001b[0;31mNameError\u001b[0m: name 'A' is not defined"
          ]
        }
      ]
    },
    {
      "cell_type": "markdown",
      "metadata": {
        "id": "kiYl2oVxb18v"
      },
      "source": [
        "## Solve the system using numerical methods:\r\n",
        "\r\n",
        "We can also generate a solution using some more advanced numerical linear algebra techniques contained inside Numpy.\r\n",
        "\r\n",
        "To solve it this way, use:\r\n",
        "\r\n",
        "\r\n",
        "\r\n",
        "```\r\n",
        "np.linalg.solve(A,b)\r\n",
        "```"
      ]
    },
    {
      "cell_type": "code",
      "metadata": {
        "id": "JHJwWnYWbMDE"
      },
      "source": [
        "# Solve the system using a numerical linear algebra solution:\r\n",
        "np.linalg.solve(A,b)"
      ],
      "execution_count": null,
      "outputs": []
    },
    {
      "cell_type": "code",
      "metadata": {
        "id": "_9CbB8UqbMGc"
      },
      "source": [
        ""
      ],
      "execution_count": null,
      "outputs": []
    },
    {
      "cell_type": "code",
      "metadata": {
        "id": "gRMS7oAabMKd"
      },
      "source": [
        ""
      ],
      "execution_count": null,
      "outputs": []
    }
  ]
}