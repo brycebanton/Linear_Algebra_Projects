{
  "nbformat": 4,
  "nbformat_minor": 0,
  "metadata": {
    "colab": {
      "name": "SecretNumber_Polynomial.ipynb",
      "provenance": [],
      "collapsed_sections": [],
      "authorship_tag": "ABX9TyOcdN2G5dsrR+wBO2plcPPS",
      "include_colab_link": true
    },
    "kernelspec": {
      "name": "python3",
      "display_name": "Python 3"
    }
  },
  "cells": [
    {
      "cell_type": "markdown",
      "metadata": {
        "id": "view-in-github",
        "colab_type": "text"
      },
      "source": [
        "<a href=\"https://colab.research.google.com/github/brycebanton/Linear_Algebra_Projects/blob/main/SecretNumber_Polynomial.ipynb\" target=\"_parent\"><img src=\"https://colab.research.google.com/assets/colab-badge.svg\" alt=\"Open In Colab\"/></a>"
      ]
    },
    {
      "cell_type": "code",
      "metadata": {
        "id": "MXWCqDcmbFOL"
      },
      "source": [
        "import matplotlib.pyplot as plt\r\n",
        "from sympy import Poly\r\n",
        "import sympy as sym\r\n",
        "import numpy as np\r\n",
        "from numpy import c_\r\n",
        "\r\n",
        "# We'll specify that x and t are variables:\r\n",
        "x, t = sym.symbols('x, t')\r\n",
        "\r\n",
        "ll = \"loaded\""
      ],
      "execution_count": 1,
      "outputs": []
    },
    {
      "cell_type": "code",
      "metadata": {
        "colab": {
          "base_uri": "https://localhost:8080/"
        },
        "id": "22FOgHTnbLfQ",
        "outputId": "41a477c4-44a1-498e-ce7c-acc8900f5edb"
      },
      "source": [
        "lll = \" correctly!\"\r\n",
        "\r\n",
        "def rref(matrix):\r\n",
        "    A = np.array(matrix, dtype=np.float64)\r\n",
        "    \r\n",
        "    r = 0 #row\r\n",
        "    c = 0 #column\r\n",
        "\r\n",
        "    (maxr, maxc) = A.shape\r\n",
        "\r\n",
        "    prev_row_pivot = -1   # The previous row with a leading term:\r\n",
        "    tmp_pivot_row = -1\r\n",
        "    this_pivot_row = -1\r\n",
        "\r\n",
        "    for c in range(maxc):  # go through each column\r\n",
        "      tmp_pivot_row = -1  # reset the tmp pivot row\r\n",
        "      this_pivot_row = -1  # reset this pivot row\r\n",
        "      for r in range(maxr):  # Find the leading term in this column below prev_row_pivot\r\n",
        "        if ((r > prev_row_pivot) and (A[r][c] != 0.0)):\r\n",
        "          tmp_pivot_row = r  # find the new pivot row\r\n",
        "      if (tmp_pivot_row > -1):  # we found a candidate for the leading term:\r\n",
        "        #swap row this_pivot_row with (prev_row_pivot + 1)\r\n",
        "        A[[tmp_pivot_row, prev_row_pivot+1]] = A[[prev_row_pivot + 1, tmp_pivot_row]]\r\n",
        "        #set this_pivot_row to prev_row_pivot+1\r\n",
        "        this_pivot_row = prev_row_pivot + 1\r\n",
        "        #Now, normalize the row based on the pivot value:\r\n",
        "        A[ this_pivot_row ] = A[ this_pivot_row ] / A[ this_pivot_row ][c]\r\n",
        "        #Then, use this row to force 0's above and below the pivot entry:\r\n",
        "        #subtract multiples of of the this_pivot_row row from the others\r\n",
        "        for r_ in range(len(A)):\r\n",
        "            if r_ != this_pivot_row:\r\n",
        "                A[r_] = A[r_] - A[this_pivot_row] * A[r_][c] / A[this_pivot_row][c]\r\n",
        "        prev_row_pivot = this_pivot_row\r\n",
        "    return A    \r\n",
        "    \r\n",
        "    \r\n",
        "\r\n",
        "print(\">> The page \", ll, lll)"
      ],
      "execution_count": 2,
      "outputs": [
        {
          "output_type": "stream",
          "text": [
            ">> The page  loaded  correctly!\n"
          ],
          "name": "stdout"
        }
      ]
    },
    {
      "cell_type": "markdown",
      "metadata": {
        "id": "WUqungb2bT9E"
      },
      "source": [
        "# Set up the secret number"
      ]
    },
    {
      "cell_type": "markdown",
      "metadata": {
        "id": "UrQfvst_bXLe"
      },
      "source": [
        "You'll encode a secret number $s$ into a 4th or 5th degree polynomial as its vertical intercept.\r\n",
        "\r\n",
        "Once you've chosen $s$, then create a 4th or 5th degree polynomial $f$ such that the vertical intercept is $s$."
      ]
    },
    {
      "cell_type": "code",
      "metadata": {
        "colab": {
          "base_uri": "https://localhost:8080/",
          "height": 38
        },
        "id": "GBUQv7-_bLpi",
        "outputId": "6d16d036-20bc-4ac5-844a-db6ee7ff418f"
      },
      "source": [
        "# the secret number is s:\r\n",
        "\r\n",
        "s = 14\r\n",
        "\r\n",
        "p = Poly(14+2*x + 3*x**18, x, domain='RR')\r\n",
        "\r\n",
        "p"
      ],
      "execution_count": 3,
      "outputs": [
        {
          "output_type": "execute_result",
          "data": {
            "text/latex": "$\\displaystyle \\operatorname{Poly}{\\left( 3.0 x^{18} + 2.0 x + 14.0, x, domain=\\mathbb{R} \\right)}$",
            "text/plain": [
              "Poly(3.0*x**18 + 2.0*x + 14.0, x, domain='RR')"
            ]
          },
          "metadata": {
            "tags": []
          },
          "execution_count": 3
        }
      ]
    },
    {
      "cell_type": "code",
      "metadata": {
        "colab": {
          "base_uri": "https://localhost:8080/",
          "height": 36
        },
        "id": "QtjBPOoAbLsV",
        "outputId": "b182c81f-d3e6-4755-97ec-a632a44de9c4"
      },
      "source": [
        "#  Evaluate polynomial at 0:\r\n",
        "p.eval(x, 2.1)\r\n",
        "\r\n",
        "# Check that this is your secret number:"
      ],
      "execution_count": 4,
      "outputs": [
        {
          "output_type": "execute_result",
          "data": {
            "text/latex": "$\\displaystyle 1892660.57719015$",
            "text/plain": [
              "1892660.57719015"
            ]
          },
          "metadata": {
            "tags": []
          },
          "execution_count": 4
        }
      ]
    },
    {
      "cell_type": "markdown",
      "metadata": {
        "id": "m3OVD9KNbhON"
      },
      "source": [
        "# Generate your data points\r\n",
        "\r\n",
        "Use this code to generate the data points for your polynomial.  Write teh data on the second page of your handout.  \r\n",
        "\r\n",
        "Writing \r\n",
        "\r\n",
        "```\r\n",
        "p.eval(x, 3)\r\n",
        "```\r\n",
        "\r\n",
        "will evaluate $p$ when $x = 3$.  Just change the $3$ to any value to evaluate $p$ at that input.\r\n",
        "\r\n",
        "Remember:  Keep your secret number and polynomial hidden."
      ]
    },
    {
      "cell_type": "code",
      "metadata": {
        "colab": {
          "base_uri": "https://localhost:8080/",
          "height": 36
        },
        "id": "qj27If2fbLuw",
        "outputId": "8fb016d3-5dfa-4ecf-b52c-7911168a4aa3"
      },
      "source": [
        "p.eval(x, 3)"
      ],
      "execution_count": 5,
      "outputs": [
        {
          "output_type": "execute_result",
          "data": {
            "text/latex": "$\\displaystyle 1162261487.0$",
            "text/plain": [
              "1162261487.00000"
            ]
          },
          "metadata": {
            "tags": []
          },
          "execution_count": 5
        }
      ]
    },
    {
      "cell_type": "markdown",
      "metadata": {
        "id": "HIeeLIMsbpGI"
      },
      "source": [
        "#  Decode the polynomial from another group\r\n",
        "\r\n",
        "In this section, we set up a linear system to find the polynomial and the secret number which was given to us by another group.\r\n",
        "\r\n",
        "First, set up a linear algebra system to find the polynomial on the handout and then enter the matrix here.  You may have to adjust the size of the matrix below to accommodate your data."
      ]
    },
    {
      "cell_type": "code",
      "metadata": {
        "colab": {
          "base_uri": "https://localhost:8080/"
        },
        "id": "9jnWCznUbLxi",
        "outputId": "d56c52ea-230c-45ea-f6f9-9718b9578d39"
      },
      "source": [
        "# create the matrix:\r\n",
        "A = np.matrix([[1, (-3),(-3)**2,(-3)**3,(-3)**4,(-3)**5],\r\n",
        "               [1, (-1),(-1)**2,(-1)**3,(-1)**4,(-1)**5],\r\n",
        "               [1, 2.718,2.718**2,2.718**3,2.718**4,2.718**5],\r\n",
        "               [1, 1,1**2,1**3,1**4,1**5],\r\n",
        "               [1, 2,2**2,2**3,2**4,2**5],\r\n",
        "               [1, 3,3**2,3**3,3**4,3**5]])\r\n",
        " \r\n",
        "# create the vector for the right hand side:\r\n",
        "b = np.matrix([[-1799], [-7], [404.77],[1],[56],[721]])\r\n",
        "\r\n",
        "#Make sure the system looks appropriate:\r\n",
        "\r\n",
        "print(np.c_[A,b])"
      ],
      "execution_count": 63,
      "outputs": [
        {
          "output_type": "stream",
          "text": [
            "[[ 1.00000000e+00 -3.00000000e+00  9.00000000e+00 -2.70000000e+01\n",
            "   8.10000000e+01 -2.43000000e+02 -1.79900000e+03]\n",
            " [ 1.00000000e+00 -1.00000000e+00  1.00000000e+00 -1.00000000e+00\n",
            "   1.00000000e+00 -1.00000000e+00 -7.00000000e+00]\n",
            " [ 1.00000000e+00  2.71800000e+00  7.38752400e+00  2.00792902e+01\n",
            "   5.45755109e+01  1.48336238e+02  4.04770000e+02]\n",
            " [ 1.00000000e+00  1.00000000e+00  1.00000000e+00  1.00000000e+00\n",
            "   1.00000000e+00  1.00000000e+00  1.00000000e+00]\n",
            " [ 1.00000000e+00  2.00000000e+00  4.00000000e+00  8.00000000e+00\n",
            "   1.60000000e+01  3.20000000e+01  5.60000000e+01]\n",
            " [ 1.00000000e+00  3.00000000e+00  9.00000000e+00  2.70000000e+01\n",
            "   8.10000000e+01  2.43000000e+02  7.21000000e+02]]\n"
          ],
          "name": "stdout"
        }
      ]
    },
    {
      "cell_type": "markdown",
      "metadata": {
        "id": "Gm1y9npMbu9V"
      },
      "source": [
        "##  Solve using Row Operations:\r\n",
        "\r\n",
        "We'll solve the augmented matrix  $\\left( A \\, | \\, \\vec{b} \\right)$ using the function\r\n",
        "\r\n",
        "```\r\n",
        "rref(np.c_[A,b])\r\n",
        "```\r\n",
        "\r\n",
        "to provide the reduced row echelon form of the matrix system $\\left(A \\, | \\, \\vec{b} \\right)$."
      ]
    },
    {
      "cell_type": "code",
      "metadata": {
        "colab": {
          "base_uri": "https://localhost:8080/"
        },
        "id": "0QnMWSsjbL2K",
        "outputId": "65036895-f666-4d98-971c-e6124fe91649"
      },
      "source": [
        "print(rref(np.c_[A,b]))"
      ],
      "execution_count": 64,
      "outputs": [
        {
          "output_type": "stream",
          "text": [
            "[[ 1.          0.          0.          0.          0.          0.\n",
            "  10.60840544]\n",
            " [ 0.          1.          0.          0.          0.          0.\n",
            "  -3.30420272]\n",
            " [ 0.          0.          1.          0.          0.          0.\n",
            "  -7.67600604]\n",
            " [-0.         -0.         -0.          1.          0.          0.\n",
            "   2.33800302]\n",
            " [ 0.          0.          0.          0.          1.          0.\n",
            "  -5.9323994 ]\n",
            " [ 0.          0.          0.          0.          0.          1.\n",
            "   4.9661997 ]]\n"
          ],
          "name": "stdout"
        }
      ]
    },
    {
      "cell_type": "markdown",
      "metadata": {
        "id": "kiYl2oVxb18v"
      },
      "source": [
        "## Solve the system using numerical methods:\r\n",
        "\r\n",
        "We can also generate a solution using some more advanced numerical linear algebra techniques contained inside Numpy.\r\n",
        "\r\n",
        "To solve it this way, use:\r\n",
        "\r\n",
        "\r\n",
        "\r\n",
        "```\r\n",
        "np.linalg.solve(A,b)\r\n",
        "```"
      ]
    },
    {
      "cell_type": "code",
      "metadata": {
        "colab": {
          "base_uri": "https://localhost:8080/"
        },
        "id": "JHJwWnYWbMDE",
        "outputId": "9da72d5c-dcf9-4d93-fecc-02c70e40d7db"
      },
      "source": [
        "# Solve the system using a numerical linear algebra solution:\r\n",
        "np.linalg.solve(A,b)"
      ],
      "execution_count": 65,
      "outputs": [
        {
          "output_type": "execute_result",
          "data": {
            "text/plain": [
              "matrix([[10.60840544],\n",
              "        [-3.30420272],\n",
              "        [-7.67600604],\n",
              "        [ 2.33800302],\n",
              "        [-5.9323994 ],\n",
              "        [ 4.9661997 ]])"
            ]
          },
          "metadata": {
            "tags": []
          },
          "execution_count": 65
        }
      ]
    },
    {
      "cell_type": "code",
      "metadata": {
        "colab": {
          "base_uri": "https://localhost:8080/",
          "height": 38
        },
        "id": "_9CbB8UqbMGc",
        "outputId": "ce573aac-de27-49da-98a4-07715571828f"
      },
      "source": [
        "p = Poly(10.60840544 + -3.30420272*x + -7.67600604*x**2 + 2.33800302*x**3 + -5.9323994*x**4 + 4.9661997*x**5, x, domain='RR')\r\n",
        "\r\n",
        "p"
      ],
      "execution_count": 59,
      "outputs": [
        {
          "output_type": "execute_result",
          "data": {
            "text/latex": "$\\displaystyle \\operatorname{Poly}{\\left( 4.9661997 x^{5} - 5.9323994 x^{4} + 2.33800302 x^{3} - 7.67600604 x^{2} - 3.30420272 x + 10.60840544, x, domain=\\mathbb{R} \\right)}$",
            "text/plain": [
              "Poly(4.9661997*x**5 - 5.9323994*x**4 + 2.33800302*x**3 - 7.67600604*x**2 - 3.30420272*x + 10.60840544, x, domain='RR')"
            ]
          },
          "metadata": {
            "tags": []
          },
          "execution_count": 59
        }
      ]
    },
    {
      "cell_type": "code",
      "metadata": {
        "colab": {
          "base_uri": "https://localhost:8080/",
          "height": 36
        },
        "id": "gRMS7oAabMKd",
        "outputId": "c9da1a2b-f5c2-4ff8-91b1-579c8a20243a"
      },
      "source": [
        "p.eval(x, 0)"
      ],
      "execution_count": 66,
      "outputs": [
        {
          "output_type": "execute_result",
          "data": {
            "text/latex": "$\\displaystyle 10.60840544$",
            "text/plain": [
              "10.6084054400000"
            ]
          },
          "metadata": {
            "tags": []
          },
          "execution_count": 66
        }
      ]
    },
    {
      "cell_type": "code",
      "metadata": {
        "colab": {
          "base_uri": "https://localhost:8080/",
          "height": 36
        },
        "id": "mAX4pClnj7Jt",
        "outputId": "16aa91c3-fa51-49de-f39b-fc8376b5f377"
      },
      "source": [
        "p.eval(x, -3)"
      ],
      "execution_count": 67,
      "outputs": [
        {
          "output_type": "execute_result",
          "data": {
            "text/latex": "$\\displaystyle -1799.0000008$",
            "text/plain": [
              "-1799.00000080000"
            ]
          },
          "metadata": {
            "tags": []
          },
          "execution_count": 67
        }
      ]
    },
    {
      "cell_type": "code",
      "metadata": {
        "colab": {
          "base_uri": "https://localhost:8080/",
          "height": 36
        },
        "id": "MwNg7Awlo_0F",
        "outputId": "2d0d3be4-c911-41d6-a263-9c0b629704cd"
      },
      "source": [
        "p.eval(x, -1)"
      ],
      "execution_count": 68,
      "outputs": [
        {
          "output_type": "execute_result",
          "data": {
            "text/latex": "$\\displaystyle -7.0$",
            "text/plain": [
              "-7.00000000000000"
            ]
          },
          "metadata": {
            "tags": []
          },
          "execution_count": 68
        }
      ]
    },
    {
      "cell_type": "code",
      "metadata": {
        "colab": {
          "base_uri": "https://localhost:8080/",
          "height": 36
        },
        "id": "OpQcQncKpAwH",
        "outputId": "3b0e2d02-d090-4222-82bf-beaca9d2ee62"
      },
      "source": [
        "p.eval(x, 2.718)"
      ],
      "execution_count": 69,
      "outputs": [
        {
          "output_type": "execute_result",
          "data": {
            "text/latex": "$\\displaystyle 404.770000077048$",
            "text/plain": [
              "404.770000077048"
            ]
          },
          "metadata": {
            "tags": []
          },
          "execution_count": 69
        }
      ]
    },
    {
      "cell_type": "code",
      "metadata": {
        "colab": {
          "base_uri": "https://localhost:8080/",
          "height": 36
        },
        "id": "T-gEJS04pCjw",
        "outputId": "8bd3b4b5-c7ae-4b8d-8cd9-c3ab33186aa9"
      },
      "source": [
        "p.eval(x, 2)"
      ],
      "execution_count": 70,
      "outputs": [
        {
          "output_type": "execute_result",
          "data": {
            "text/latex": "$\\displaystyle 56.0$",
            "text/plain": [
              "56.0000000000000"
            ]
          },
          "metadata": {
            "tags": []
          },
          "execution_count": 70
        }
      ]
    },
    {
      "cell_type": "code",
      "metadata": {
        "colab": {
          "base_uri": "https://localhost:8080/",
          "height": 36
        },
        "id": "2Gnk52lLpFV9",
        "outputId": "9d1c991f-2370-43aa-cd82-7a5b55980e15"
      },
      "source": [
        "p.eval(x, 3)"
      ],
      "execution_count": 71,
      "outputs": [
        {
          "output_type": "execute_result",
          "data": {
            "text/latex": "$\\displaystyle 721.00000016$",
            "text/plain": [
              "721.000000160000"
            ]
          },
          "metadata": {
            "tags": []
          },
          "execution_count": 71
        }
      ]
    },
    {
      "cell_type": "code",
      "metadata": {
        "id": "-qfXYgYjpHBR"
      },
      "source": [
        ""
      ],
      "execution_count": null,
      "outputs": []
    }
  ]
}