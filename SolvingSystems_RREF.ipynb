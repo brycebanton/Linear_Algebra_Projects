{
  "nbformat": 4,
  "nbformat_minor": 0,
  "metadata": {
    "colab": {
      "name": "SolvingSystems_RREF.ipynb",
      "provenance": [],
      "collapsed_sections": [],
      "authorship_tag": "ABX9TyPkcd/uZKip5q0DmJF+zLsm",
      "include_colab_link": true
    },
    "kernelspec": {
      "name": "python3",
      "display_name": "Python 3"
    }
  },
  "cells": [
    {
      "cell_type": "markdown",
      "metadata": {
        "id": "view-in-github",
        "colab_type": "text"
      },
      "source": [
        "<a href=\"https://colab.research.google.com/github/brycebanton/Linear_Algebra_Projects/blob/main/SolvingSystems_RREF.ipynb\" target=\"_parent\"><img src=\"https://colab.research.google.com/assets/colab-badge.svg\" alt=\"Open In Colab\"/></a>"
      ]
    },
    {
      "cell_type": "code",
      "metadata": {
        "id": "Ogk6wqezluN0"
      },
      "source": [
        "import numpy as np\r\n",
        "from numpy import c_\r\n",
        "\r\n",
        "ll = \"loaded\""
      ],
      "execution_count": 15,
      "outputs": []
    },
    {
      "cell_type": "code",
      "metadata": {
        "colab": {
          "base_uri": "https://localhost:8080/"
        },
        "id": "3yso7Ilmlyw6",
        "outputId": "1093a530-e1a0-4b06-be3e-1d65bdc63f75"
      },
      "source": [
        "lll = \" correctly!\"\r\n",
        "\r\n",
        "def rref(matrix):\r\n",
        "    A = np.array(matrix, dtype=np.float64)\r\n",
        "    \r\n",
        "    r = 0 #row\r\n",
        "    c = 0 #column\r\n",
        "\r\n",
        "    (maxr, maxc) = A.shape\r\n",
        "\r\n",
        "    prev_row_pivot = -1   # The previous row with a leading term:\r\n",
        "    tmp_pivot_row = -1\r\n",
        "    this_pivot_row = -1\r\n",
        "\r\n",
        "    for c in range(maxc):  # go through each column\r\n",
        "      tmp_pivot_row = -1  # reset the tmp pivot row\r\n",
        "      this_pivot_row = -1  # reset this pivot row\r\n",
        "      for r in range(maxr):  # Find the leading term in this column below prev_row_pivot\r\n",
        "        if ((r > prev_row_pivot) and (A[r][c] != 0.0)):\r\n",
        "          tmp_pivot_row = r  # find the new pivot row\r\n",
        "      if (tmp_pivot_row > -1):  # we found a candidate for the leading term:\r\n",
        "        #swap row this_pivot_row with (prev_row_pivot + 1)\r\n",
        "        A[[tmp_pivot_row, prev_row_pivot+1]] = A[[prev_row_pivot + 1, tmp_pivot_row]]\r\n",
        "        #set this_pivot_row to prev_row_pivot+1\r\n",
        "        this_pivot_row = prev_row_pivot + 1\r\n",
        "        #Now, normalize the row based on the pivot value:\r\n",
        "        A[ this_pivot_row ] = A[ this_pivot_row ] / A[ this_pivot_row ][c]\r\n",
        "        #Then, use this row to force 0's above and below the pivot entry:\r\n",
        "        #subtract multiples of of the this_pivot_row row from the others\r\n",
        "        for r_ in range(len(A)):\r\n",
        "            if r_ != this_pivot_row:\r\n",
        "                A[r_] = A[r_] - A[this_pivot_row] * A[r_][c] / A[this_pivot_row][c]\r\n",
        "        prev_row_pivot = this_pivot_row\r\n",
        "    return A    \r\n",
        "    \r\n",
        "    \r\n",
        "\r\n",
        "print(\">> The page \", ll, lll)"
      ],
      "execution_count": 16,
      "outputs": [
        {
          "output_type": "stream",
          "text": [
            ">> The page  loaded  correctly!\n"
          ],
          "name": "stdout"
        }
      ]
    },
    {
      "cell_type": "code",
      "metadata": {
        "id": "WCHYNcEQlzAJ"
      },
      "source": [
        "# create the matrix:\r\n",
        "A = np.matrix([[5, 6, 2],\r\n",
        "               [4, 7, 19],\r\n",
        "               [0, 3, 12]])\r\n",
        "\r\n",
        "# create the vector for the right hand side:\r\n",
        "b = np.matrix([[-1], [2], [1]])"
      ],
      "execution_count": 18,
      "outputs": []
    },
    {
      "cell_type": "code",
      "metadata": {
        "colab": {
          "base_uri": "https://localhost:8080/"
        },
        "id": "4oGlpmumlzCz",
        "outputId": "86eefb13-9690-438b-a568-ec363344aa67"
      },
      "source": [
        "print(A)"
      ],
      "execution_count": 19,
      "outputs": [
        {
          "output_type": "stream",
          "text": [
            "[[ 5  6  2]\n",
            " [ 4  7 19]\n",
            " [ 0  3 12]]\n"
          ],
          "name": "stdout"
        }
      ]
    },
    {
      "cell_type": "code",
      "metadata": {
        "colab": {
          "base_uri": "https://localhost:8080/"
        },
        "id": "RAP-0gbYlzFT",
        "outputId": "68ddafc8-96d4-4ffe-c915-1677a6ee36b0"
      },
      "source": [
        "print(b)"
      ],
      "execution_count": 20,
      "outputs": [
        {
          "output_type": "stream",
          "text": [
            "[[-1]\n",
            " [ 2]\n",
            " [ 1]]\n"
          ],
          "name": "stdout"
        }
      ]
    },
    {
      "cell_type": "code",
      "metadata": {
        "colab": {
          "base_uri": "https://localhost:8080/"
        },
        "id": "lEZsK62lmD83",
        "outputId": "a351f79a-3d80-42a4-e688-331cb600e62d"
      },
      "source": [
        "M = np.c_[A,b]\r\n",
        "print(M)"
      ],
      "execution_count": 25,
      "outputs": [
        {
          "output_type": "stream",
          "text": [
            "[[ 5  6  2 -1]\n",
            " [ 4  7 19  2]\n",
            " [ 0  3 12  1]]\n"
          ],
          "name": "stdout"
        }
      ]
    },
    {
      "cell_type": "markdown",
      "metadata": {
        "id": "0aHMSYcWoATm"
      },
      "source": [
        "np.c_ is concatenating the matrices together which is shown in M"
      ]
    },
    {
      "cell_type": "code",
      "metadata": {
        "colab": {
          "base_uri": "https://localhost:8080/"
        },
        "id": "wlfxQ7skmEF6",
        "outputId": "c23a9c10-822d-4115-91f7-02df4a74fbe3"
      },
      "source": [
        "rref(M)"
      ],
      "execution_count": 30,
      "outputs": [
        {
          "output_type": "execute_result",
          "data": {
            "text/plain": [
              "array([[ 1.        ,  0.        ,  0.        ,  0.45736434],\n",
              "       [ 0.        ,  1.        ,  0.        , -0.62790698],\n",
              "       [-0.        , -0.        ,  1.        ,  0.24031008]])"
            ]
          },
          "metadata": {
            "tags": []
          },
          "execution_count": 30
        }
      ]
    },
    {
      "cell_type": "markdown",
      "metadata": {
        "id": "Kt9tgoHloJMh"
      },
      "source": [
        "rref is the function described above"
      ]
    },
    {
      "cell_type": "markdown",
      "metadata": {
        "id": "TUKqCo7gnPw1"
      },
      "source": [
        "#Solving and checking work from prior homework"
      ]
    },
    {
      "cell_type": "markdown",
      "metadata": {
        "id": "5x5YHPhhnjq9"
      },
      "source": [
        "\r\n",
        "\r\n",
        "\r\n",
        "$$\r\n",
        "(a) \\hspace{.5cm}\r\n",
        "\\left\\{ \\begin{array}{rcr} 2x + 2y & = & 5 \\\\ x - 4y & = & 0 \\\\ \\end{array} \\right.\r\n",
        "\\hspace{1cm}\r\n",
        "(b) \\hspace{.5cm}\r\n",
        "\\left\\{ \\begin{array}{rcr} -x + y &=& 1 \\\\ x + y &=& 2 \\\\ \\end{array}\r\n",
        "\\right.\r\n",
        "\\hspace{1cm}\r\n",
        "(c) \\hspace{.5cm}\r\n",
        "\\left\\{ \\begin{array}{rcr} x - 3y + z & = 1 \\\\ x + y + 2z & = & 14 \\\\ \\end{array}\r\n",
        "\\right.\r\n",
        "\\hspace{1cm}\r\n",
        "(d) \\hspace{.5cm}\r\n",
        "\\left\\{ \\begin{array}{rcr} -x - y &=& 1 \\\\ -3x -3 y &=& 2 \\\\ \\end{array}\r\n",
        "\\right.\r\n",
        "$$\r\n",
        "\r\n",
        "\r\n",
        "$$\r\n",
        "(e) \\hspace{.5cm}\r\n",
        "\\left\\{ \\begin{array}{rcr} 4y + z & = & 20 \\\\ 2x - 2y + z & = & 0 \\\\ x + z & = & 5 \\\\ x + y - z & = & 10 \\\\ \\end{array} \\right.\r\n",
        "\\hspace{1cm}\r\n",
        "(f) \\hspace{.5cm}\r\n",
        "\\left\\{ \\begin{array}{rcr} 2x + z + w & = & 5 \\\\ y - w & = & -1 \\\\ 3x - z - w & = & 0 \\\\ 4x + y + 2z + w & = & 9 \\\\ \\end{array}\r\n",
        "\\right.\r\n",
        "$$\r\n",
        "\r\n"
      ]
    },
    {
      "cell_type": "code",
      "metadata": {
        "id": "KgfJncOGnNLg"
      },
      "source": [
        ""
      ],
      "execution_count": null,
      "outputs": []
    }
  ]
}