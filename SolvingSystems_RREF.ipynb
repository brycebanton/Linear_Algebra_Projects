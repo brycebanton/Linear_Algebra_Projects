{
  "nbformat": 4,
  "nbformat_minor": 0,
  "metadata": {
    "colab": {
      "name": "SolvingSystems_RREF.ipynb",
      "provenance": [],
      "collapsed_sections": [],
      "authorship_tag": "ABX9TyOUvUGr2zYVsHDaon4I6TQ8",
      "include_colab_link": true
    },
    "kernelspec": {
      "name": "python3",
      "display_name": "Python 3"
    }
  },
  "cells": [
    {
      "cell_type": "markdown",
      "metadata": {
        "id": "view-in-github",
        "colab_type": "text"
      },
      "source": [
        "<a href=\"https://colab.research.google.com/github/brycebanton/Linear_Algebra_Projects/blob/main/SolvingSystems_RREF.ipynb\" target=\"_parent\"><img src=\"https://colab.research.google.com/assets/colab-badge.svg\" alt=\"Open In Colab\"/></a>"
      ]
    },
    {
      "cell_type": "code",
      "metadata": {
        "id": "Ogk6wqezluN0"
      },
      "source": [
        "import numpy as np\r\n",
        "from numpy import c_\r\n",
        "\r\n",
        "ll = \"loaded\""
      ],
      "execution_count": 2,
      "outputs": []
    },
    {
      "cell_type": "code",
      "metadata": {
        "colab": {
          "base_uri": "https://localhost:8080/"
        },
        "id": "3yso7Ilmlyw6",
        "outputId": "ee98f04d-7d2e-4ff6-9b1f-45aa02c58703"
      },
      "source": [
        "lll = \" correctly!\"\r\n",
        "\r\n",
        "def rref(matrix):\r\n",
        "    A = np.array(matrix, dtype=np.float64)\r\n",
        "    \r\n",
        "    r = 0 #row\r\n",
        "    c = 0 #column\r\n",
        "\r\n",
        "    (maxr, maxc) = A.shape\r\n",
        "\r\n",
        "    prev_row_pivot = -1   # The previous row with a leading term:\r\n",
        "    tmp_pivot_row = -1\r\n",
        "    this_pivot_row = -1\r\n",
        "\r\n",
        "    for c in range(maxc):  # go through each column\r\n",
        "      tmp_pivot_row = -1  # reset the tmp pivot row\r\n",
        "      this_pivot_row = -1  # reset this pivot row\r\n",
        "      for r in range(maxr):  # Find the leading term in this column below prev_row_pivot\r\n",
        "        if ((r > prev_row_pivot) and (A[r][c] != 0.0)):\r\n",
        "          tmp_pivot_row = r  # find the new pivot row\r\n",
        "      if (tmp_pivot_row > -1):  # we found a candidate for the leading term:\r\n",
        "        #swap row this_pivot_row with (prev_row_pivot + 1)\r\n",
        "        A[[tmp_pivot_row, prev_row_pivot+1]] = A[[prev_row_pivot + 1, tmp_pivot_row]]\r\n",
        "        #set this_pivot_row to prev_row_pivot+1\r\n",
        "        this_pivot_row = prev_row_pivot + 1\r\n",
        "        #Now, normalize the row based on the pivot value:\r\n",
        "        A[ this_pivot_row ] = A[ this_pivot_row ] / A[ this_pivot_row ][c]\r\n",
        "        #Then, use this row to force 0's above and below the pivot entry:\r\n",
        "        #subtract multiples of of the this_pivot_row row from the others\r\n",
        "        for r_ in range(len(A)):\r\n",
        "            if r_ != this_pivot_row:\r\n",
        "                A[r_] = A[r_] - A[this_pivot_row] * A[r_][c] / A[this_pivot_row][c]\r\n",
        "        prev_row_pivot = this_pivot_row\r\n",
        "    return A    \r\n",
        "    \r\n",
        "    \r\n",
        "\r\n",
        "print(\">> The page \", ll, lll)"
      ],
      "execution_count": 3,
      "outputs": [
        {
          "output_type": "stream",
          "text": [
            ">> The page  loaded  correctly!\n"
          ],
          "name": "stdout"
        }
      ]
    },
    {
      "cell_type": "code",
      "metadata": {
        "id": "WCHYNcEQlzAJ"
      },
      "source": [
        "# create the matrix:\r\n",
        "A = np.matrix([[5, 6, 2],\r\n",
        "               [4, 7, 19],\r\n",
        "               [0, 3, 12]])\r\n",
        "\r\n",
        "# create the vector for the right hand side:\r\n",
        "b = np.matrix([[-1], [2], [1]])"
      ],
      "execution_count": 4,
      "outputs": []
    },
    {
      "cell_type": "code",
      "metadata": {
        "colab": {
          "base_uri": "https://localhost:8080/"
        },
        "id": "4oGlpmumlzCz",
        "outputId": "9d487823-dc37-469c-9319-1bff00def2da"
      },
      "source": [
        "print(A)"
      ],
      "execution_count": 5,
      "outputs": [
        {
          "output_type": "stream",
          "text": [
            "[[ 5  6  2]\n",
            " [ 4  7 19]\n",
            " [ 0  3 12]]\n"
          ],
          "name": "stdout"
        }
      ]
    },
    {
      "cell_type": "code",
      "metadata": {
        "colab": {
          "base_uri": "https://localhost:8080/"
        },
        "id": "RAP-0gbYlzFT",
        "outputId": "803cbe30-6116-4e93-bd9d-308f38992e8d"
      },
      "source": [
        "print(b)"
      ],
      "execution_count": 6,
      "outputs": [
        {
          "output_type": "stream",
          "text": [
            "[[-1]\n",
            " [ 2]\n",
            " [ 1]]\n"
          ],
          "name": "stdout"
        }
      ]
    },
    {
      "cell_type": "code",
      "metadata": {
        "colab": {
          "base_uri": "https://localhost:8080/"
        },
        "id": "lEZsK62lmD83",
        "outputId": "9ef371bb-2079-4c0b-c4c7-cc248ee9d6b7"
      },
      "source": [
        "M = np.c_[A,b]\r\n",
        "print(M)"
      ],
      "execution_count": 7,
      "outputs": [
        {
          "output_type": "stream",
          "text": [
            "[[ 5  6  2 -1]\n",
            " [ 4  7 19  2]\n",
            " [ 0  3 12  1]]\n"
          ],
          "name": "stdout"
        }
      ]
    },
    {
      "cell_type": "markdown",
      "metadata": {
        "id": "0aHMSYcWoATm"
      },
      "source": [
        "np.c_ is concatenating the matrices together which is shown in M"
      ]
    },
    {
      "cell_type": "code",
      "metadata": {
        "colab": {
          "base_uri": "https://localhost:8080/"
        },
        "id": "wlfxQ7skmEF6",
        "outputId": "189202a6-f404-4261-b213-f6493b74480c"
      },
      "source": [
        "rref(M)"
      ],
      "execution_count": 8,
      "outputs": [
        {
          "output_type": "execute_result",
          "data": {
            "text/plain": [
              "array([[ 1.        ,  0.        ,  0.        ,  0.45736434],\n",
              "       [ 0.        ,  1.        ,  0.        , -0.62790698],\n",
              "       [-0.        , -0.        ,  1.        ,  0.24031008]])"
            ]
          },
          "metadata": {
            "tags": []
          },
          "execution_count": 8
        }
      ]
    },
    {
      "cell_type": "markdown",
      "metadata": {
        "id": "Kt9tgoHloJMh"
      },
      "source": [
        "rref is the function described above"
      ]
    },
    {
      "cell_type": "markdown",
      "metadata": {
        "id": "TUKqCo7gnPw1"
      },
      "source": [
        "#Solving and checking work from prior homework"
      ]
    },
    {
      "cell_type": "markdown",
      "metadata": {
        "id": "5x5YHPhhnjq9"
      },
      "source": [
        "\r\n",
        "\r\n",
        "\r\n",
        "$$\r\n",
        "(a) \\hspace{.5cm}\r\n",
        "\\left\\{ \\begin{array}{rcr} 2x + 2y & = & 5 \\\\ x - 4y & = & 0 \\\\ \\end{array} \\right.\r\n",
        "\\hspace{1cm}\r\n",
        "(b) \\hspace{.5cm}\r\n",
        "\\left\\{ \\begin{array}{rcr} -x + y &=& 1 \\\\ x + y &=& 2 \\\\ \\end{array}\r\n",
        "\\right.\r\n",
        "\\hspace{1cm}\r\n",
        "(c) \\hspace{.5cm}\r\n",
        "\\left\\{ \\begin{array}{rcr} x - 3y + z & = 1 \\\\ x + y + 2z & = & 14 \\\\ \\end{array}\r\n",
        "\\right.\r\n",
        "\\hspace{1cm}\r\n",
        "(d) \\hspace{.5cm}\r\n",
        "\\left\\{ \\begin{array}{rcr} -x - y &=& 1 \\\\ -3x -3 y &=& 2 \\\\ \\end{array}\r\n",
        "\\right.\r\n",
        "$$\r\n",
        "\r\n",
        "\r\n",
        "$$\r\n",
        "(e) \\hspace{.5cm}\r\n",
        "\\left\\{ \\begin{array}{rcr} 4y + z & = & 20 \\\\ 2x - 2y + z & = & 0 \\\\ x + z & = & 5 \\\\ x + y - z & = & 10 \\\\ \\end{array} \\right.\r\n",
        "\\hspace{1cm}\r\n",
        "(f) \\hspace{.5cm}\r\n",
        "\\left\\{ \\begin{array}{rcr} 2x + z + w & = & 5 \\\\ y - w & = & -1 \\\\ 3x - z - w & = & 0 \\\\ 4x + y + 2z + w & = & 9 \\\\ \\end{array}\r\n",
        "\\right.\r\n",
        "$$\r\n",
        "\r\n"
      ]
    },
    {
      "cell_type": "code",
      "metadata": {
        "id": "KgfJncOGnNLg"
      },
      "source": [
        "# create the matrix:\r\n",
        "A = np.matrix([[2, 2],\r\n",
        "               [1, -4]])\r\n",
        "\r\n",
        "# create the vector for the right hand side:\r\n",
        "b = np.matrix([[5], [0]])"
      ],
      "execution_count": 13,
      "outputs": []
    },
    {
      "cell_type": "markdown",
      "metadata": {
        "id": "AXefu1OZqJgJ"
      },
      "source": [
        "### Solving for problem A"
      ]
    },
    {
      "cell_type": "code",
      "metadata": {
        "id": "TEdrAoMqpt-O",
        "outputId": "c6f73091-a3ec-4228-b111-29c14bb05e8e",
        "colab": {
          "base_uri": "https://localhost:8080/"
        }
      },
      "source": [
        "print(A)"
      ],
      "execution_count": 14,
      "outputs": [
        {
          "output_type": "stream",
          "text": [
            "[[ 2  2]\n",
            " [ 1 -4]]\n"
          ],
          "name": "stdout"
        }
      ]
    },
    {
      "cell_type": "code",
      "metadata": {
        "id": "w_6svTxRpuFk",
        "outputId": "c78baf7c-2ffe-44c2-dbbb-6edd5546905a",
        "colab": {
          "base_uri": "https://localhost:8080/"
        }
      },
      "source": [
        "print(b)"
      ],
      "execution_count": 15,
      "outputs": [
        {
          "output_type": "stream",
          "text": [
            "[[5]\n",
            " [0]]\n"
          ],
          "name": "stdout"
        }
      ]
    },
    {
      "cell_type": "code",
      "metadata": {
        "id": "Crnzere6puIE",
        "outputId": "dfb235da-224c-4dde-f9cc-25625dfe2256",
        "colab": {
          "base_uri": "https://localhost:8080/"
        }
      },
      "source": [
        "matr = np.c_[A,b]\r\n",
        "print(matr)"
      ],
      "execution_count": 16,
      "outputs": [
        {
          "output_type": "stream",
          "text": [
            "[[ 2  2  5]\n",
            " [ 1 -4  0]]\n"
          ],
          "name": "stdout"
        }
      ]
    },
    {
      "cell_type": "code",
      "metadata": {
        "id": "pIwhfLDRpuKd",
        "outputId": "277f5c78-62a0-4d00-c640-5014a748cee6",
        "colab": {
          "base_uri": "https://localhost:8080/"
        }
      },
      "source": [
        "rref(matr)"
      ],
      "execution_count": 17,
      "outputs": [
        {
          "output_type": "execute_result",
          "data": {
            "text/plain": [
              "array([[1. , 0. , 2. ],\n",
              "       [0. , 1. , 0.5]])"
            ]
          },
          "metadata": {
            "tags": []
          },
          "execution_count": 17
        }
      ]
    },
    {
      "cell_type": "markdown",
      "metadata": {
        "id": "k0vIHtD6qVRP"
      },
      "source": [
        "## Solving for problem B"
      ]
    },
    {
      "cell_type": "code",
      "metadata": {
        "id": "eU7QDK6nqZDr"
      },
      "source": [
        "# create the matrix:\r\n",
        "A = np.matrix([[-1, 1],\r\n",
        "               [1, 1]])\r\n",
        "\r\n",
        "# create the vector for the right hand side:\r\n",
        "b = np.matrix([[1], [2]])"
      ],
      "execution_count": 18,
      "outputs": []
    },
    {
      "cell_type": "code",
      "metadata": {
        "id": "q6v64erQqk0C",
        "outputId": "9c82ebca-1eef-42ae-f8b7-c897323d6d6d",
        "colab": {
          "base_uri": "https://localhost:8080/"
        }
      },
      "source": [
        "print(A)"
      ],
      "execution_count": 19,
      "outputs": [
        {
          "output_type": "stream",
          "text": [
            "[[-1  1]\n",
            " [ 1  1]]\n"
          ],
          "name": "stdout"
        }
      ]
    },
    {
      "cell_type": "code",
      "metadata": {
        "id": "xX3qmZAOqk7Q",
        "outputId": "333349b2-9bdf-4230-c475-431841f6cc69",
        "colab": {
          "base_uri": "https://localhost:8080/"
        }
      },
      "source": [
        "print(b)"
      ],
      "execution_count": 20,
      "outputs": [
        {
          "output_type": "stream",
          "text": [
            "[[1]\n",
            " [2]]\n"
          ],
          "name": "stdout"
        }
      ]
    },
    {
      "cell_type": "code",
      "metadata": {
        "id": "S7x2Eqkiqk98",
        "outputId": "fe55925a-3ffa-4ab7-fdb7-dd0d07ca269f",
        "colab": {
          "base_uri": "https://localhost:8080/"
        }
      },
      "source": [
        "matr = np.c_[A,b]\r\n",
        "print(matr)"
      ],
      "execution_count": 21,
      "outputs": [
        {
          "output_type": "stream",
          "text": [
            "[[-1  1  1]\n",
            " [ 1  1  2]]\n"
          ],
          "name": "stdout"
        }
      ]
    },
    {
      "cell_type": "code",
      "metadata": {
        "id": "2URgfcAjqlBB",
        "outputId": "30260e5e-fe8b-46ae-97e3-82026f0a4e10",
        "colab": {
          "base_uri": "https://localhost:8080/"
        }
      },
      "source": [
        "rref(matr)"
      ],
      "execution_count": 22,
      "outputs": [
        {
          "output_type": "execute_result",
          "data": {
            "text/plain": [
              "array([[1. , 0. , 0.5],\n",
              "       [0. , 1. , 1.5]])"
            ]
          },
          "metadata": {
            "tags": []
          },
          "execution_count": 22
        }
      ]
    },
    {
      "cell_type": "markdown",
      "metadata": {
        "id": "bEr7vFvwqzV8"
      },
      "source": [
        "## Solving for Problem C"
      ]
    },
    {
      "cell_type": "code",
      "metadata": {
        "id": "o3OR_rFCqlD3"
      },
      "source": [
        "# create the matrix:\r\n",
        "A = np.matrix([[1, -3, 1],\r\n",
        "               [1, 1, 2]])\r\n",
        "\r\n",
        "# create the vector for the right hand side:\r\n",
        "b = np.matrix([[1], [14]])"
      ],
      "execution_count": 23,
      "outputs": []
    },
    {
      "cell_type": "code",
      "metadata": {
        "id": "1GmMH9tsqlGm",
        "outputId": "01a24c54-7435-40a1-dfb5-10684fd71ebb",
        "colab": {
          "base_uri": "https://localhost:8080/"
        }
      },
      "source": [
        "print(A)"
      ],
      "execution_count": 24,
      "outputs": [
        {
          "output_type": "stream",
          "text": [
            "[[ 1 -3  1]\n",
            " [ 1  1  2]]\n"
          ],
          "name": "stdout"
        }
      ]
    },
    {
      "cell_type": "code",
      "metadata": {
        "id": "9Xqk1LR1qlJO",
        "outputId": "f5335c6c-aeb2-4baf-a4ee-1d20ec0b8490",
        "colab": {
          "base_uri": "https://localhost:8080/"
        }
      },
      "source": [
        "print(b)"
      ],
      "execution_count": 25,
      "outputs": [
        {
          "output_type": "stream",
          "text": [
            "[[ 1]\n",
            " [14]]\n"
          ],
          "name": "stdout"
        }
      ]
    },
    {
      "cell_type": "code",
      "metadata": {
        "id": "ze5CsIMrqlL5",
        "outputId": "d13b8a5d-d30d-411f-f35a-ed578e15edbb",
        "colab": {
          "base_uri": "https://localhost:8080/"
        }
      },
      "source": [
        "matr = np.c_[A,b]\r\n",
        "print(matr)"
      ],
      "execution_count": 26,
      "outputs": [
        {
          "output_type": "stream",
          "text": [
            "[[ 1 -3  1  1]\n",
            " [ 1  1  2 14]]\n"
          ],
          "name": "stdout"
        }
      ]
    },
    {
      "cell_type": "code",
      "metadata": {
        "id": "VWuc25_cqlO2",
        "outputId": "8eba11cc-00d8-4149-82ab-2d41e7c7b75c",
        "colab": {
          "base_uri": "https://localhost:8080/"
        }
      },
      "source": [
        "rref(matr)"
      ],
      "execution_count": 28,
      "outputs": [
        {
          "output_type": "execute_result",
          "data": {
            "text/plain": [
              "array([[ 1.  ,  0.  ,  1.75, 10.75],\n",
              "       [-0.  ,  1.  ,  0.25,  3.25]])"
            ]
          },
          "metadata": {
            "tags": []
          },
          "execution_count": 28
        }
      ]
    },
    {
      "cell_type": "markdown",
      "metadata": {
        "id": "zuMGcwg8rSHA"
      },
      "source": [
        "## Solving for Problem D"
      ]
    },
    {
      "cell_type": "code",
      "metadata": {
        "id": "KuFzzo7lrUsK",
        "outputId": "e717a6ae-1fff-4484-b1a3-3539aa54b77a",
        "colab": {
          "base_uri": "https://localhost:8080/"
        }
      },
      "source": [
        "# create the matrix:\r\n",
        "A = np.matrix([[-1, -1],\r\n",
        "               [-3, -3]])\r\n",
        "\r\n",
        "# create the vector for the right hand side:\r\n",
        "b = np.matrix([[1], [2]])\r\n",
        "print(A)\r\n",
        "print(b)"
      ],
      "execution_count": 70,
      "outputs": [
        {
          "output_type": "stream",
          "text": [
            "[[-1 -1]\n",
            " [-3 -3]]\n",
            "[[1]\n",
            " [2]]\n"
          ],
          "name": "stdout"
        }
      ]
    },
    {
      "cell_type": "code",
      "metadata": {
        "id": "DkDzOeWcrZ4u",
        "outputId": "a1bbddd4-85aa-465a-deb6-62acb46dbb8c",
        "colab": {
          "base_uri": "https://localhost:8080/"
        }
      },
      "source": [
        "matr = np.c_[A,b]\r\n",
        "print(matr)"
      ],
      "execution_count": 71,
      "outputs": [
        {
          "output_type": "stream",
          "text": [
            "[[-1 -1  1]\n",
            " [-3 -3  2]]\n"
          ],
          "name": "stdout"
        }
      ]
    },
    {
      "cell_type": "code",
      "metadata": {
        "id": "Xw5086verZ8l",
        "outputId": "2ba2bfc6-316d-4f60-e0a4-42ceb37fb4e1",
        "colab": {
          "base_uri": "https://localhost:8080/"
        }
      },
      "source": [
        "answ = rref(matr)\r\n",
        "answ"
      ],
      "execution_count": 72,
      "outputs": [
        {
          "output_type": "execute_result",
          "data": {
            "text/plain": [
              "array([[1., 1., 0.],\n",
              "       [0., 0., 1.]])"
            ]
          },
          "metadata": {
            "tags": []
          },
          "execution_count": 72
        }
      ]
    },
    {
      "cell_type": "markdown",
      "metadata": {
        "id": "HAW5xd0nsJPs"
      },
      "source": [
        "This is no solution because 0 != 1"
      ]
    },
    {
      "cell_type": "markdown",
      "metadata": {
        "id": "MQv2QbstsPqH"
      },
      "source": [
        "## Solving for Problem E"
      ]
    },
    {
      "cell_type": "code",
      "metadata": {
        "id": "JHHbuOhHrZ_9",
        "outputId": "f8ff3af5-d3fd-4e8d-d4df-086174c07280",
        "colab": {
          "base_uri": "https://localhost:8080/"
        }
      },
      "source": [
        "# create the matrix:\r\n",
        "A = np.matrix([[0, 4, 1],\r\n",
        "               [2, -2, 1],\r\n",
        "               [1, 0, 1],\r\n",
        "               [1, 1, -1]])\r\n",
        "\r\n",
        "# create the vector for the right hand side:\r\n",
        "b = np.matrix([[20], [0], [5], [10]])\r\n",
        "print(A)\r\n",
        "print(b)"
      ],
      "execution_count": 115,
      "outputs": [
        {
          "output_type": "stream",
          "text": [
            "[[ 0  4  1]\n",
            " [ 2 -2  1]\n",
            " [ 1  0  1]\n",
            " [ 1  1 -1]]\n",
            "[[20]\n",
            " [ 0]\n",
            " [ 5]\n",
            " [10]]\n"
          ],
          "name": "stdout"
        }
      ]
    },
    {
      "cell_type": "code",
      "metadata": {
        "id": "LtHxF-wMraCQ",
        "outputId": "e2238b33-ae15-402c-80b2-965b2f5d5719",
        "colab": {
          "base_uri": "https://localhost:8080/"
        }
      },
      "source": [
        "matr = np.c_[A,b]\r\n",
        "print(matr)"
      ],
      "execution_count": 116,
      "outputs": [
        {
          "output_type": "stream",
          "text": [
            "[[ 0  4  1 20]\n",
            " [ 2 -2  1  0]\n",
            " [ 1  0  1  5]\n",
            " [ 1  1 -1 10]]\n"
          ],
          "name": "stdout"
        }
      ]
    },
    {
      "cell_type": "code",
      "metadata": {
        "id": "SIUJBrges1WU",
        "outputId": "1940da40-f6b2-43bd-f1a2-c26be5546cd8",
        "colab": {
          "base_uri": "https://localhost:8080/"
        }
      },
      "source": [
        "answ =rref(matr)\r\n",
        "answ"
      ],
      "execution_count": 117,
      "outputs": [
        {
          "output_type": "execute_result",
          "data": {
            "text/plain": [
              "array([[1., 0., 0., 5.],\n",
              "       [0., 1., 0., 5.],\n",
              "       [0., 0., 1., 0.],\n",
              "       [0., 0., 0., 0.]])"
            ]
          },
          "metadata": {
            "tags": []
          },
          "execution_count": 117
        }
      ]
    },
    {
      "cell_type": "code",
      "metadata": {
        "id": "QG5lFtPntAHr",
        "outputId": "068b2f57-d194-4e06-ccb6-3975d24f049f",
        "colab": {
          "base_uri": "https://localhost:8080/"
        }
      },
      "source": [
        "for i in range(len(answ)):\r\n",
        "  constants = answ[i, len(answ)-1]\r\n",
        "  print(constants)"
      ],
      "execution_count": 118,
      "outputs": [
        {
          "output_type": "stream",
          "text": [
            "5.0\n",
            "5.0\n",
            "0.0\n",
            "0.0\n"
          ],
          "name": "stdout"
        }
      ]
    },
    {
      "cell_type": "markdown",
      "metadata": {
        "id": "-LRw_fZZt55g"
      },
      "source": [
        "## Solving for Problem F"
      ]
    },
    {
      "cell_type": "code",
      "metadata": {
        "id": "oYDPm9GbtGhU",
        "outputId": "977ebd89-3fe7-46eb-c023-216a428ca815",
        "colab": {
          "base_uri": "https://localhost:8080/"
        }
      },
      "source": [
        "A = np.matrix([[2, 0, 1, 1],\r\n",
        "               [0, 1, 0, -1],\r\n",
        "               [3, 0, -1, -1],\r\n",
        "               [4, 1, 2, 1]])\r\n",
        "\r\n",
        "# create the vector for the right hand side:\r\n",
        "b = np.matrix([[5], [-1], [0], [9]])\r\n",
        "print(A)\r\n",
        "print(b)"
      ],
      "execution_count": 47,
      "outputs": [
        {
          "output_type": "stream",
          "text": [
            "[[ 2  0  1  1]\n",
            " [ 0  1  0 -1]\n",
            " [ 3  0 -1 -1]\n",
            " [ 4  1  2  1]]\n",
            "[[ 5]\n",
            " [-1]\n",
            " [ 0]\n",
            " [ 9]]\n"
          ],
          "name": "stdout"
        }
      ]
    },
    {
      "cell_type": "code",
      "metadata": {
        "id": "8N13xK-dvJrj",
        "outputId": "6629b0b7-0b32-46d9-8382-a169f164dc4d",
        "colab": {
          "base_uri": "https://localhost:8080/"
        }
      },
      "source": [
        "matr = np.c_[A,b]\r\n",
        "print(matr)"
      ],
      "execution_count": 48,
      "outputs": [
        {
          "output_type": "stream",
          "text": [
            "[[ 2  0  1  1  5]\n",
            " [ 0  1  0 -1 -1]\n",
            " [ 3  0 -1 -1  0]\n",
            " [ 4  1  2  1  9]]\n"
          ],
          "name": "stdout"
        }
      ]
    },
    {
      "cell_type": "code",
      "metadata": {
        "id": "p3OWJ0wbvOEH",
        "outputId": "ed21d9ed-0f1b-4ff0-e364-197ca59b31de",
        "colab": {
          "base_uri": "https://localhost:8080/"
        }
      },
      "source": [
        "rref(matr)"
      ],
      "execution_count": 49,
      "outputs": [
        {
          "output_type": "execute_result",
          "data": {
            "text/plain": [
              "array([[ 1.,  0.,  0.,  0.,  1.],\n",
              "       [-0.,  1.,  0., -1., -1.],\n",
              "       [-0., -0.,  1.,  1.,  3.],\n",
              "       [ 0.,  0.,  0.,  0.,  0.]])"
            ]
          },
          "metadata": {
            "tags": []
          },
          "execution_count": 49
        }
      ]
    }
  ]
}