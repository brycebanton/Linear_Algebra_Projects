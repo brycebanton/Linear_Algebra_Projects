{
  "nbformat": 4,
  "nbformat_minor": 0,
  "metadata": {
    "colab": {
      "name": "Determinants.ipynb",
      "provenance": [],
      "collapsed_sections": [],
      "authorship_tag": "ABX9TyM5+jBJ3Tjgrny51riT9Np4",
      "include_colab_link": true
    },
    "kernelspec": {
      "name": "python3",
      "display_name": "Python 3"
    },
    "language_info": {
      "name": "python"
    }
  },
  "cells": [
    {
      "cell_type": "markdown",
      "metadata": {
        "id": "view-in-github",
        "colab_type": "text"
      },
      "source": [
        "<a href=\"https://colab.research.google.com/github/brycebanton/Linear_Algebra_Projects/blob/main/Determinants.ipynb\" target=\"_parent\"><img src=\"https://colab.research.google.com/assets/colab-badge.svg\" alt=\"Open In Colab\"/></a>"
      ]
    },
    {
      "cell_type": "code",
      "metadata": {
        "id": "JjAB9sZyP4BS"
      },
      "source": [
        "import matplotlib.pyplot as plt\n",
        "from sympy import Poly\n",
        "import sympy as sym\n",
        "import numpy as np\n",
        "from numpy import c_\n",
        "\n",
        "# We'll specify that x and t are variables:\n",
        "x, t = sym.symbols('x, t')\n",
        "\n",
        "ll = \"loaded\""
      ],
      "execution_count": 1,
      "outputs": []
    },
    {
      "cell_type": "code",
      "metadata": {
        "colab": {
          "base_uri": "https://localhost:8080/"
        },
        "id": "vDQ5EICeQAoT",
        "outputId": "2fec2072-a0d0-42b7-ee21-7823d2807d85"
      },
      "source": [
        "A = np.matrix([[3,2,3],\n",
        "              [-6,1,-10],\n",
        "              [-8,-9,-9]])\n",
        "A"
      ],
      "execution_count": 5,
      "outputs": [
        {
          "output_type": "execute_result",
          "data": {
            "text/plain": [
              "matrix([[  3,   2,   3],\n",
              "        [ -6,   1, -10],\n",
              "        [ -8,  -9,  -9]])"
            ]
          },
          "metadata": {
            "tags": []
          },
          "execution_count": 5
        }
      ]
    },
    {
      "cell_type": "code",
      "metadata": {
        "colab": {
          "base_uri": "https://localhost:8080/"
        },
        "id": "ZFIvkLNAQAsN",
        "outputId": "880038c0-38da-462c-9868-7a5f6f167d67"
      },
      "source": [
        "B = np.matrix([[1,-2,1],\n",
        "              [5,5,4],\n",
        "              [4,0,0]])\n",
        "B"
      ],
      "execution_count": 6,
      "outputs": [
        {
          "output_type": "execute_result",
          "data": {
            "text/plain": [
              "matrix([[ 1, -2,  1],\n",
              "        [ 5,  5,  4],\n",
              "        [ 4,  0,  0]])"
            ]
          },
          "metadata": {
            "tags": []
          },
          "execution_count": 6
        }
      ]
    },
    {
      "cell_type": "code",
      "metadata": {
        "colab": {
          "base_uri": "https://localhost:8080/"
        },
        "id": "5m_RoxbTQAv3",
        "outputId": "06eadc2c-f04d-43af-8a54-481812254208"
      },
      "source": [
        "C = np.matrix([[1,0,0],\n",
        "              [0,2,0],\n",
        "              [-3,-2,1]])\n",
        "C"
      ],
      "execution_count": 7,
      "outputs": [
        {
          "output_type": "execute_result",
          "data": {
            "text/plain": [
              "matrix([[ 1,  0,  0],\n",
              "        [ 0,  2,  0],\n",
              "        [-3, -2,  1]])"
            ]
          },
          "metadata": {
            "tags": []
          },
          "execution_count": 7
        }
      ]
    },
    {
      "cell_type": "code",
      "metadata": {
        "colab": {
          "base_uri": "https://localhost:8080/"
        },
        "id": "lydd6ZwdQA0L",
        "outputId": "3abea262-14d2-48a2-fe4a-5dfc0dd4ed1c"
      },
      "source": [
        "print(np.linalg.det(A))\n",
        "print(np.linalg.det(B))\n",
        "print(np.linalg.det(C))"
      ],
      "execution_count": 10,
      "outputs": [
        {
          "output_type": "stream",
          "text": [
            "-58.999999999999964\n",
            "-51.999999999999986\n",
            "1.9999999999999998\n"
          ],
          "name": "stdout"
        }
      ]
    },
    {
      "cell_type": "code",
      "metadata": {
        "colab": {
          "base_uri": "https://localhost:8080/"
        },
        "id": "0qA_4U00QA4p",
        "outputId": "e319f750-a56d-4315-8946-9dfc4ebc16c9"
      },
      "source": [
        "AB = A * B\n",
        "BA = B * A\n",
        "print(AB)\n",
        "print()\n",
        "print(BA)"
      ],
      "execution_count": 16,
      "outputs": [
        {
          "output_type": "stream",
          "text": [
            "[[ 25   4  11]\n",
            " [-41  17  -2]\n",
            " [-89 -29 -44]]\n",
            "\n",
            "[[  7  -9  14]\n",
            " [-47 -21 -71]\n",
            " [ 12   8  12]]\n"
          ],
          "name": "stdout"
        }
      ]
    },
    {
      "cell_type": "code",
      "metadata": {
        "colab": {
          "base_uri": "https://localhost:8080/"
        },
        "id": "bnDoVg_vQA81",
        "outputId": "3e1e9d87-37ff-4d0c-fa37-2c9bb1f710e2"
      },
      "source": [
        "print('AB:',np.linalg.det(AB))\n",
        "print('BA:',np.linalg.det(BA))"
      ],
      "execution_count": 18,
      "outputs": [
        {
          "output_type": "stream",
          "text": [
            "AB: 3067.9999999999973\n",
            "BA: 3067.9999999999973\n"
          ],
          "name": "stdout"
        }
      ]
    },
    {
      "cell_type": "code",
      "metadata": {
        "id": "LitI_nAmSZBQ"
      },
      "source": [
        "def findef(mat1,mat2,mat3):\n",
        "  print('A:',np.linalg.det(mat1))\n",
        "  print('B:',np.linalg.det(mat2))\n",
        "  print('C:',np.linalg.det(mat3))\n",
        "  AB = A * B\n",
        "  BA = B * A\n",
        "  AC = A * C\n",
        "  CA = C * A\n",
        "  CB = C * B\n",
        "  BC = B * C \n",
        "  print('AB:',np.linalg.det(AB))\n",
        "  print('BA:',np.linalg.det(BA))\n",
        "  print('AC:',np.linalg.det(AC))\n",
        "  print('CA:',np.linalg.det(CA))\n",
        "  print('BC:',np.linalg.det(BC))\n",
        "  print('CB:',np.linalg.det(CB))\n",
        "  print()\n",
        "  print('AB:',AB)\n",
        "  print('BA:',BA)\n",
        "  print('AC:',AC)\n",
        "  print('CA:',CA)\n",
        "  print('BC:',BC)\n",
        "  print('CB:',CB)\n"
      ],
      "execution_count": 38,
      "outputs": []
    },
    {
      "cell_type": "code",
      "metadata": {
        "colab": {
          "base_uri": "https://localhost:8080/"
        },
        "id": "M6QzlCKeTXXw",
        "outputId": "6252af5c-fc1f-4399-9b23-5668b4c6a18e"
      },
      "source": [
        "findef(A,B,C)"
      ],
      "execution_count": 39,
      "outputs": [
        {
          "output_type": "stream",
          "text": [
            "A: -58.999999999999964\n",
            "B: -51.999999999999986\n",
            "C: 1.9999999999999998\n",
            "AB: 3067.9999999999973\n",
            "BA: 3067.9999999999973\n",
            "AC: -118.00000000000004\n",
            "CA: -118.00000000000004\n",
            "BC: -103.99999999999999\n",
            "CB: -104.00000000000007\n",
            "\n",
            "AB: [[ 25   4  11]\n",
            " [-41  17  -2]\n",
            " [-89 -29 -44]]\n",
            "BA: [[  7  -9  14]\n",
            " [-47 -21 -71]\n",
            " [ 12   8  12]]\n",
            "AC: [[ -6  -2   3]\n",
            " [ 24  22 -10]\n",
            " [ 19   0  -9]]\n",
            "CA: [[  3   2   3]\n",
            " [-12   2 -20]\n",
            " [ -5 -17   2]]\n",
            "BC: [[-2 -6  1]\n",
            " [-7  2  4]\n",
            " [ 4  0  0]]\n",
            "CB: [[  1  -2   1]\n",
            " [ 10  10   8]\n",
            " [ -9  -4 -11]]\n"
          ],
          "name": "stdout"
        }
      ]
    },
    {
      "cell_type": "code",
      "metadata": {
        "id": "VvqXhI6BTd_r"
      },
      "source": [
        "ABC = A*B*C\n",
        "ACB = A*C*B\n",
        "CBA = C*B*A"
      ],
      "execution_count": 40,
      "outputs": []
    },
    {
      "cell_type": "code",
      "metadata": {
        "colab": {
          "base_uri": "https://localhost:8080/"
        },
        "id": "xjvrvJfpWxnF",
        "outputId": "2599cb08-7217-464e-f88e-d09fddddf5b9"
      },
      "source": [
        "print('ABC:',np.linalg.det(ABC))\n",
        "print('ACB:',np.linalg.det(ACB))\n",
        "print('CBA:',np.linalg.det(CBA))"
      ],
      "execution_count": 41,
      "outputs": [
        {
          "output_type": "stream",
          "text": [
            "ABC: 6135.999999999995\n",
            "ACB: 6136.000000000006\n",
            "CBA: 6136.000000000006\n"
          ],
          "name": "stdout"
        }
      ]
    },
    {
      "cell_type": "code",
      "metadata": {
        "id": "P8ry3PonW5Rs"
      },
      "source": [
        ""
      ],
      "execution_count": 43,
      "outputs": []
    },
    {
      "cell_type": "code",
      "metadata": {
        "colab": {
          "base_uri": "https://localhost:8080/"
        },
        "id": "weKqLym5XdDK",
        "outputId": "30872eb7-5162-4aae-ed9e-2a234a8a764d"
      },
      "source": [
        "A = np.matrix([[10,7],\n",
        "                [8,9]])\n",
        "A"
      ],
      "execution_count": 53,
      "outputs": [
        {
          "output_type": "execute_result",
          "data": {
            "text/plain": [
              "matrix([[10,  7],\n",
              "        [ 8,  9]])"
            ]
          },
          "metadata": {
            "tags": []
          },
          "execution_count": 53
        }
      ]
    },
    {
      "cell_type": "code",
      "metadata": {
        "colab": {
          "base_uri": "https://localhost:8080/"
        },
        "id": "ZUObBp5cYxMz",
        "outputId": "4478afc2-65ad-49a5-ce97-c612a8b627a3"
      },
      "source": [
        "B = np.matrix([[-10,-1],\n",
        "                [-4,7]])\n",
        "B"
      ],
      "execution_count": 54,
      "outputs": [
        {
          "output_type": "execute_result",
          "data": {
            "text/plain": [
              "matrix([[-10,  -1],\n",
              "        [ -4,   7]])"
            ]
          },
          "metadata": {
            "tags": []
          },
          "execution_count": 54
        }
      ]
    },
    {
      "cell_type": "code",
      "metadata": {
        "colab": {
          "base_uri": "https://localhost:8080/"
        },
        "id": "vCOU1EvWY4tO",
        "outputId": "227e72ab-aa04-4950-f2af-9321b12f9da8"
      },
      "source": [
        "C = np.matrix([[1,-3],\n",
        "                [7,7]])\n",
        "C"
      ],
      "execution_count": 55,
      "outputs": [
        {
          "output_type": "execute_result",
          "data": {
            "text/plain": [
              "matrix([[ 1, -3],\n",
              "        [ 7,  7]])"
            ]
          },
          "metadata": {
            "tags": []
          },
          "execution_count": 55
        }
      ]
    },
    {
      "cell_type": "code",
      "metadata": {
        "colab": {
          "base_uri": "https://localhost:8080/"
        },
        "id": "iLPmttWAY-be",
        "outputId": "07d2de32-5249-4f0a-9222-7bb12967f9f0"
      },
      "source": [
        "findef(A,B,C)"
      ],
      "execution_count": 56,
      "outputs": [
        {
          "output_type": "stream",
          "text": [
            "A: 34.00000000000001\n",
            "B: -74.00000000000003\n",
            "C: 27.999999999999996\n",
            "AB: -2515.999999999999\n",
            "BA: -2516.0000000000014\n",
            "AC: 951.9999999999997\n",
            "CA: 951.9999999999997\n",
            "BC: -2071.9999999999995\n",
            "CB: -2071.9999999999995\n",
            "\n",
            "AB: [[-128   39]\n",
            " [-116   55]]\n",
            "BA: [[-108  -79]\n",
            " [  16   35]]\n",
            "AC: [[59 19]\n",
            " [71 39]]\n",
            "CA: [[-14 -20]\n",
            " [126 112]]\n",
            "BC: [[-17  23]\n",
            " [ 45  61]]\n",
            "CB: [[  2 -22]\n",
            " [-98  42]]\n"
          ],
          "name": "stdout"
        }
      ]
    },
    {
      "cell_type": "code",
      "metadata": {
        "id": "uaT6wCjsZGMM"
      },
      "source": [
        "ABC = A*B*C\n",
        "ACB = A*C*B\n",
        "CBA = C*B*A"
      ],
      "execution_count": 57,
      "outputs": []
    },
    {
      "cell_type": "code",
      "metadata": {
        "colab": {
          "base_uri": "https://localhost:8080/"
        },
        "id": "W4ZxSRHkafI5",
        "outputId": "37da8aa4-c642-477e-bec1-68aafb3ebbb8"
      },
      "source": [
        "print('ABC:',np.linalg.det(ABC))\n",
        "print('ACB:',np.linalg.det(ACB))\n",
        "print('CBA:',np.linalg.det(CBA))"
      ],
      "execution_count": 58,
      "outputs": [
        {
          "output_type": "stream",
          "text": [
            "ABC: -70447.99999999994\n",
            "ACB: -70447.99999999994\n",
            "CBA: -70447.99999999994\n"
          ],
          "name": "stdout"
        }
      ]
    }
  ]
}