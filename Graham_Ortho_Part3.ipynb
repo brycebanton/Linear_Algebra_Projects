{
  "nbformat": 4,
  "nbformat_minor": 0,
  "metadata": {
    "colab": {
      "name": "Graham_Ortho_Practice.ipynb",
      "provenance": [],
      "collapsed_sections": [],
      "authorship_tag": "ABX9TyP9m2tWuTfMrBrOhLrIOnJU",
      "include_colab_link": true
    },
    "kernelspec": {
      "name": "python3",
      "display_name": "Python 3"
    },
    "language_info": {
      "name": "python"
    }
  },
  "cells": [
    {
      "cell_type": "markdown",
      "metadata": {
        "id": "view-in-github",
        "colab_type": "text"
      },
      "source": [
        "<a href=\"https://colab.research.google.com/github/brycebanton/Linear_Algebra_Projects/blob/main/Graham_Ortho_Part3.ipynb\" target=\"_parent\"><img src=\"https://colab.research.google.com/assets/colab-badge.svg\" alt=\"Open In Colab\"/></a>"
      ]
    },
    {
      "cell_type": "code",
      "metadata": {
        "id": "RmG0iLFHzvfI"
      },
      "source": [
        "\n",
        "import matplotlib.pyplot as plt\n",
        "from sympy import Poly\n",
        "import sympy as sym\n",
        "import numpy as np\n",
        "from numpy import c_\n",
        "\n",
        "# We'll specify that x and t are variables:\n",
        "x, t = sym.symbols('x, t')\n",
        "\n",
        "ll = \"loaded\""
      ],
      "execution_count": 1,
      "outputs": []
    },
    {
      "cell_type": "code",
      "metadata": {
        "colab": {
          "base_uri": "https://localhost:8080/"
        },
        "id": "PWkUtsweOJN0",
        "outputId": "5c286468-eb0c-45c9-e4dd-2109ec41a5c7"
      },
      "source": [
        "\n",
        "lll = \" correctly!\"\n",
        "\n",
        "def rref(matrix):\n",
        "    A = np.array(matrix, dtype=np.float64)\n",
        "    \n",
        "    r = 0 #row\n",
        "    c = 0 #column\n",
        "\n",
        "    (maxr, maxc) = A.shape\n",
        "\n",
        "    prev_row_pivot = -1   # The previous row with a leading term:\n",
        "    tmp_pivot_row = -1\n",
        "    this_pivot_row = -1\n",
        "\n",
        "    for c in range(maxc):  # go through each column\n",
        "      tmp_pivot_row = -1  # reset the tmp pivot row\n",
        "      this_pivot_row = -1  # reset this pivot row\n",
        "      for r in range(maxr):  # Find the leading term in this column below prev_row_pivot\n",
        "        if ((r > prev_row_pivot) and (A[r][c] != 0.0)):\n",
        "          tmp_pivot_row = r  # find the new pivot row\n",
        "      if (tmp_pivot_row > -1):  # we found a candidate for the leading term:\n",
        "        #swap row this_pivot_row with (prev_row_pivot + 1)\n",
        "        A[[tmp_pivot_row, prev_row_pivot+1]] = A[[prev_row_pivot + 1, tmp_pivot_row]]\n",
        "        #set this_pivot_row to prev_row_pivot+1\n",
        "        this_pivot_row = prev_row_pivot + 1\n",
        "        #Now, normalize the row based on the pivot value:\n",
        "        A[ this_pivot_row ] = A[ this_pivot_row ] / A[ this_pivot_row ][c]\n",
        "        #Then, use this row to force 0's above and below the pivot entry:\n",
        "        #subtract multiples of of the this_pivot_row row from the others\n",
        "        for r_ in range(len(A)):\n",
        "            if r_ != this_pivot_row:\n",
        "                A[r_] = A[r_] - A[this_pivot_row] * A[r_][c] / A[this_pivot_row][c]\n",
        "        prev_row_pivot = this_pivot_row\n",
        "    return A   \n",
        "\n",
        "\n",
        "def is_singular(matrix):\n",
        "  singular = True\n",
        "  notsingular = False\n",
        "\n",
        "  (mr, mc) = matrix.shape\n",
        "  \n",
        "  return_value = notsingular\n",
        "  if (mc - np.linalg.linalg.matrix_rank(matrix) > 0) :\n",
        "    return_value = singular\n",
        "  return return_value\n",
        " \n",
        "    \n",
        "    \n",
        "\n",
        "print(\">> The page \", ll, lll)"
      ],
      "execution_count": 2,
      "outputs": [
        {
          "output_type": "stream",
          "text": [
            ">> The page  loaded  correctly!\n"
          ],
          "name": "stdout"
        }
      ]
    },
    {
      "cell_type": "code",
      "metadata": {
        "id": "HKMsAaiNOJQM"
      },
      "source": [
        "M = np.matrix([[1, 0, 0, 0, -1, 0, 0],\n",
        "               [1, -1, 0, 0 ,0 ,0 ,0]]\n",
        "              \n",
        "pts = np.matrix([[14], [12], [16], [15]])"
      ],
      "execution_count": null,
      "outputs": []
    },
    {
      "cell_type": "code",
      "metadata": {
        "id": "_EXCzQBlOJSM"
      },
      "source": [
        "r1 = [0,3,-3,0]\n",
        "r2 = [2,6,-2,2]\n",
        "r3 = [-2,1,-3,0]\n",
        "r4 = [2,-4,-2,-4]"
      ],
      "execution_count": 13,
      "outputs": []
    },
    {
      "cell_type": "code",
      "metadata": {
        "colab": {
          "base_uri": "https://localhost:8080/"
        },
        "id": "2l1TWwEEO4h2",
        "outputId": "02778c6e-9ca2-4ad5-bfc6-5479b8fba3ad"
      },
      "source": [
        "print(r1,r2,r3,r4)"
      ],
      "execution_count": 14,
      "outputs": [
        {
          "output_type": "stream",
          "text": [
            "[0, 3, -3, 0] [2, 6, -2, 2] [-2, 1, -3, 0] [2, -4, -2, -4]\n"
          ],
          "name": "stdout"
        }
      ]
    },
    {
      "cell_type": "code",
      "metadata": {
        "colab": {
          "base_uri": "https://localhost:8080/"
        },
        "id": "T1OZzbTqO6r4",
        "outputId": "3f663c5c-7962-4b3d-be4d-4ee939935870"
      },
      "source": [
        "n1 = r1\n",
        "n1"
      ],
      "execution_count": 15,
      "outputs": [
        {
          "output_type": "execute_result",
          "data": {
            "text/plain": [
              "[0, 3, -3, 0]"
            ]
          },
          "metadata": {
            "tags": []
          },
          "execution_count": 15
        }
      ]
    },
    {
      "cell_type": "code",
      "metadata": {
        "colab": {
          "base_uri": "https://localhost:8080/"
        },
        "id": "BYyDZw6KPF8e",
        "outputId": "4a5caa87-abcc-49a9-d7e3-a932291f8d35"
      },
      "source": [
        "#Finding the magnitude\n",
        "np.sqrt(np.dot(n1,n1))"
      ],
      "execution_count": 16,
      "outputs": [
        {
          "output_type": "execute_result",
          "data": {
            "text/plain": [
              "4.242640687119285"
            ]
          },
          "metadata": {
            "tags": []
          },
          "execution_count": 16
        }
      ]
    },
    {
      "cell_type": "code",
      "metadata": {
        "colab": {
          "base_uri": "https://localhost:8080/"
        },
        "id": "Vi9kMeI7PQTa",
        "outputId": "a072495f-d24c-465a-96db-d52887ce0f94"
      },
      "source": [
        "#create nice basis vector\n",
        "u1 = n1/np.sqrt(np.dot(n1,n1))\n",
        "u1"
      ],
      "execution_count": 17,
      "outputs": [
        {
          "output_type": "execute_result",
          "data": {
            "text/plain": [
              "array([ 0.        ,  0.70710678, -0.70710678,  0.        ])"
            ]
          },
          "metadata": {
            "tags": []
          },
          "execution_count": 17
        }
      ]
    },
    {
      "cell_type": "code",
      "metadata": {
        "colab": {
          "base_uri": "https://localhost:8080/"
        },
        "id": "iM8hVDxTPcH2",
        "outputId": "0f825ba3-eb66-419e-cd11-489c0b4e3628"
      },
      "source": [
        "# Check\n",
        "np.dot(u1,u1)"
      ],
      "execution_count": 18,
      "outputs": [
        {
          "output_type": "execute_result",
          "data": {
            "text/plain": [
              "1.0000000000000002"
            ]
          },
          "metadata": {
            "tags": []
          },
          "execution_count": 18
        }
      ]
    },
    {
      "cell_type": "code",
      "metadata": {
        "id": "fnhVIVP7Ptue"
      },
      "source": [
        ""
      ],
      "execution_count": null,
      "outputs": []
    },
    {
      "cell_type": "code",
      "metadata": {
        "colab": {
          "base_uri": "https://localhost:8080/"
        },
        "id": "UOYFx_7wTopO",
        "outputId": "ccf2fc82-5680-4a0c-c0b0-d9a34fb190bc"
      },
      "source": [
        "#Finding U1\n",
        "print('This is r1:',r1)\n",
        "\n",
        "n1 = r1\n",
        "print('This is n1:',n1)\n",
        "\n",
        "print('Dot Product:',np.dot(n1,n1))\n",
        "\n",
        "u1 = n1/np.sqrt(np.dot(n1,n1))\n",
        "print('This is U1:',u1)\n",
        "\n",
        "#Checking to see if U1 and U1 are orthogonal\n",
        "print('Are they orthogonal?:',np.dot(u1,u1))\n",
        "\n",
        "# Check to see if it has magnitude of 1\n",
        "print('Magnitude of one:',np.dot(u1,u1))"
      ],
      "execution_count": 41,
      "outputs": [
        {
          "output_type": "stream",
          "text": [
            "This is r1: [0, 3, -3, 0]\n",
            "This is n1: [0, 3, -3, 0]\n",
            "Dot Product: 18\n",
            "This is U1: [ 0.          0.70710678 -0.70710678  0.        ]\n",
            "Are they orthogonal?: 1.0000000000000002\n",
            "Magnitude of one: 1.0000000000000002\n"
          ],
          "name": "stdout"
        }
      ]
    },
    {
      "cell_type": "code",
      "metadata": {
        "colab": {
          "base_uri": "https://localhost:8080/"
        },
        "id": "XmcgdoHmPtw7",
        "outputId": "9267a1ef-b588-40e3-b0a2-aa71d541d65d"
      },
      "source": [
        "#Finding U2\n",
        "print('This is r2:',r2)\n",
        "\n",
        "n2 = r2 - np.dot(r2,u1)*u1\n",
        "print('This is n2:',n2)\n",
        "\n",
        "print('Dot Product:',np.dot(n2,n2))\n",
        "\n",
        "u2 = n2/np.sqrt(np.dot(n2,n2))\n",
        "print('This is U2:',u2)\n",
        "\n",
        "#Checking to see if U1 and U2 are orthogonal\n",
        "print('Are they orthogonal?:',np.dot(u1,u2))\n",
        "\n",
        "# Check to see if it has magnitude of 1\n",
        "print('Magnitude of one:',np.dot(u2,u2))\n"
      ],
      "execution_count": 42,
      "outputs": [
        {
          "output_type": "stream",
          "text": [
            "This is r2: [2, 6, -2, 2]\n",
            "This is n2: [2. 2. 2. 2.]\n",
            "Dot Product: 16.0\n",
            "This is U2: [0.5 0.5 0.5 0.5]\n",
            "Are they orthogonal?: -3.2354269956215097e-16\n",
            "Magnitude of one: 1.0\n"
          ],
          "name": "stdout"
        }
      ]
    },
    {
      "cell_type": "code",
      "metadata": {
        "colab": {
          "base_uri": "https://localhost:8080/"
        },
        "id": "s0EI2i5vP_hC",
        "outputId": "24f9f989-eb9d-4262-961b-02521ea0d31d"
      },
      "source": [
        "#Finding U3\n",
        "print('This is r3:',r3)\n",
        "\n",
        "n3 = r3 - np.dot(r3,u1)*u1 - np.dot(r3,u2)*u2\n",
        "print('This is n3:',n3)\n",
        "\n",
        "print('Dot Product:',np.dot(n3,n3))\n",
        "\n",
        "u3 = n3/np.sqrt(np.dot(n3,n3))\n",
        "print('This is U3:',u3)\n",
        "\n",
        "#Checking to see if U1 and U3 are orthogonal\n",
        "print('Are they orthogonal?:',np.dot(u1,u3))\n",
        "\n",
        "# Check to see if it has magnitude of 1\n",
        "print('Magnitude of one:',np.dot(u3,u3))\n"
      ],
      "execution_count": 48,
      "outputs": [
        {
          "output_type": "stream",
          "text": [
            "This is r3: [-2, 1, -3, 0]\n",
            "This is n3: [-1.00000000e+00 -4.44089210e-16  1.33226763e-15  1.00000000e+00]\n",
            "Dot Product: 2.0\n",
            "This is U3: [-7.07106781e-01 -3.14018492e-16  9.42055475e-16  7.07106781e-01]\n",
            "Are they orthogonal?: -8.881784197001252e-16\n",
            "Magnitude of one: 0.9999999999999998\n"
          ],
          "name": "stdout"
        }
      ]
    },
    {
      "cell_type": "code",
      "metadata": {
        "colab": {
          "base_uri": "https://localhost:8080/"
        },
        "id": "iKVIGlkHSO6X",
        "outputId": "44834f37-e30d-4235-fd58-debb44809aa1"
      },
      "source": [
        "#Finding U4\n",
        "print('This is r4:',r4)\n",
        "\n",
        "n4 = r3 - np.dot(r4,u1)*u1 - np.dot(r4,u2)*u2 - np.dot(r4,u3)*u3\n",
        "print('This is n4:',n4)\n",
        "\n",
        "print('Dot Product:',np.dot(n4,n4))\n",
        "\n",
        "u4 = n4/np.sqrt(np.dot(n4,n4))\n",
        "print('This is u4:',u3)\n",
        "\n",
        "#Checking to see if U1 and U4 are orthogonal\n",
        "print('Are they orthogonal?:',np.dot(u1,u4))\n",
        "\n",
        "# Check to see if it has magnitude of 1\n",
        "print('Magnitude of one:',np.dot(u4,u4))"
      ],
      "execution_count": 49,
      "outputs": [
        {
          "output_type": "stream",
          "text": [
            "This is r4: [2, -4, -2, -4]\n",
            "This is n4: [-3.  4. -2.  5.]\n",
            "Dot Product: 53.99999999999997\n",
            "This is u4: [-7.07106781e-01 -3.14018492e-16  9.42055475e-16  7.07106781e-01]\n",
            "Are they orthogonal?: 0.5773502691896253\n",
            "Magnitude of one: 0.9999999999999997\n"
          ],
          "name": "stdout"
        }
      ]
    },
    {
      "cell_type": "code",
      "metadata": {
        "id": "DWoLKKdQSO89"
      },
      "source": [
        ""
      ],
      "execution_count": null,
      "outputs": []
    }
  ]
}