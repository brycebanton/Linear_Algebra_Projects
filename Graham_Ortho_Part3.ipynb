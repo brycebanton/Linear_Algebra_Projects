{
  "nbformat": 4,
  "nbformat_minor": 0,
  "metadata": {
    "colab": {
      "name": "Graham_Ortho_Part3.ipynb",
      "provenance": [],
      "collapsed_sections": [],
      "authorship_tag": "ABX9TyMg1lOF7dF6xJ5IBnZQNBuy",
      "include_colab_link": true
    },
    "kernelspec": {
      "name": "python3",
      "display_name": "Python 3"
    },
    "language_info": {
      "name": "python"
    }
  },
  "cells": [
    {
      "cell_type": "markdown",
      "metadata": {
        "id": "view-in-github",
        "colab_type": "text"
      },
      "source": [
        "<a href=\"https://colab.research.google.com/github/brycebanton/Linear_Algebra_Projects/blob/main/Graham_Ortho_Part3.ipynb\" target=\"_parent\"><img src=\"https://colab.research.google.com/assets/colab-badge.svg\" alt=\"Open In Colab\"/></a>"
      ]
    },
    {
      "cell_type": "code",
      "metadata": {
        "id": "RmG0iLFHzvfI"
      },
      "source": [
        "\n",
        "import matplotlib.pyplot as plt\n",
        "from sympy import Poly\n",
        "import sympy as sym\n",
        "import numpy as np\n",
        "from numpy import c_\n",
        "\n",
        "# We'll specify that x and t are variables:\n",
        "x, t = sym.symbols('x, t')\n",
        "\n",
        "ll = \"loaded\""
      ],
      "execution_count": 1,
      "outputs": []
    },
    {
      "cell_type": "code",
      "metadata": {
        "id": "_EXCzQBlOJSM"
      },
      "source": [
        "r1 = [0,3,-3,0]\n",
        "r2 = [2,6,-2,2]\n",
        "r3 = [-2,1,-3,0]\n",
        "r4 = [2,-4,-2,-4]"
      ],
      "execution_count": 13,
      "outputs": []
    },
    {
      "cell_type": "code",
      "metadata": {
        "colab": {
          "base_uri": "https://localhost:8080/"
        },
        "id": "2l1TWwEEO4h2",
        "outputId": "02778c6e-9ca2-4ad5-bfc6-5479b8fba3ad"
      },
      "source": [
        "print(r1,r2,r3,r4)"
      ],
      "execution_count": 14,
      "outputs": [
        {
          "output_type": "stream",
          "text": [
            "[0, 3, -3, 0] [2, 6, -2, 2] [-2, 1, -3, 0] [2, -4, -2, -4]\n"
          ],
          "name": "stdout"
        }
      ]
    },
    {
      "cell_type": "code",
      "metadata": {
        "colab": {
          "base_uri": "https://localhost:8080/"
        },
        "id": "T1OZzbTqO6r4",
        "outputId": "3f663c5c-7962-4b3d-be4d-4ee939935870"
      },
      "source": [
        "n1 = r1\n",
        "n1"
      ],
      "execution_count": 15,
      "outputs": [
        {
          "output_type": "execute_result",
          "data": {
            "text/plain": [
              "[0, 3, -3, 0]"
            ]
          },
          "metadata": {
            "tags": []
          },
          "execution_count": 15
        }
      ]
    },
    {
      "cell_type": "code",
      "metadata": {
        "colab": {
          "base_uri": "https://localhost:8080/"
        },
        "id": "BYyDZw6KPF8e",
        "outputId": "4a5caa87-abcc-49a9-d7e3-a932291f8d35"
      },
      "source": [
        "#Finding the magnitude\n",
        "np.sqrt(np.dot(n1,n1))"
      ],
      "execution_count": 16,
      "outputs": [
        {
          "output_type": "execute_result",
          "data": {
            "text/plain": [
              "4.242640687119285"
            ]
          },
          "metadata": {
            "tags": []
          },
          "execution_count": 16
        }
      ]
    },
    {
      "cell_type": "code",
      "metadata": {
        "colab": {
          "base_uri": "https://localhost:8080/"
        },
        "id": "Vi9kMeI7PQTa",
        "outputId": "a072495f-d24c-465a-96db-d52887ce0f94"
      },
      "source": [
        "#create nice basis vector\n",
        "u1 = n1/np.sqrt(np.dot(n1,n1))\n",
        "u1"
      ],
      "execution_count": 17,
      "outputs": [
        {
          "output_type": "execute_result",
          "data": {
            "text/plain": [
              "array([ 0.        ,  0.70710678, -0.70710678,  0.        ])"
            ]
          },
          "metadata": {
            "tags": []
          },
          "execution_count": 17
        }
      ]
    },
    {
      "cell_type": "code",
      "metadata": {
        "colab": {
          "base_uri": "https://localhost:8080/"
        },
        "id": "iM8hVDxTPcH2",
        "outputId": "0f825ba3-eb66-419e-cd11-489c0b4e3628"
      },
      "source": [
        "# Check\n",
        "np.dot(u1,u1)"
      ],
      "execution_count": 18,
      "outputs": [
        {
          "output_type": "execute_result",
          "data": {
            "text/plain": [
              "1.0000000000000002"
            ]
          },
          "metadata": {
            "tags": []
          },
          "execution_count": 18
        }
      ]
    },
    {
      "cell_type": "code",
      "metadata": {
        "id": "fnhVIVP7Ptue"
      },
      "source": [
        ""
      ],
      "execution_count": null,
      "outputs": []
    },
    {
      "cell_type": "code",
      "metadata": {
        "colab": {
          "base_uri": "https://localhost:8080/"
        },
        "id": "UOYFx_7wTopO",
        "outputId": "b622e8c0-315d-434b-e4f9-20e5792164e0"
      },
      "source": [
        "#Finding U1\n",
        "print('This is r1:',r1)\n",
        "\n",
        "n1 = r1\n",
        "print('This is n1:',n1)\n",
        "\n",
        "print('Magnitude:',np.sqrt(np.dot(n1,n1)))\n",
        "\n",
        "u1 = n1/np.sqrt(np.dot(n1,n1))\n",
        "print('This is U1:',u1)\n",
        "\n",
        "#Checking to see if U1 and U1 are orthogonal\n",
        "print('Check Orthogonal u1 * u1:',np.dot(u1,u1))"
      ],
      "execution_count": 77,
      "outputs": [
        {
          "output_type": "stream",
          "text": [
            "This is r1: [0, 3, -3, 0]\n",
            "This is n1: [0, 3, -3, 0]\n",
            "Magnitude: 4.242640687119285\n",
            "This is U1: [ 0.          0.70710678 -0.70710678  0.        ]\n",
            "Check Orthogonal u1 * u1: 1.0000000000000002\n"
          ],
          "name": "stdout"
        }
      ]
    },
    {
      "cell_type": "code",
      "metadata": {
        "colab": {
          "base_uri": "https://localhost:8080/"
        },
        "id": "XmcgdoHmPtw7",
        "outputId": "57382516-bb49-4cbc-90ae-02000ea9653c"
      },
      "source": [
        "#Finding U2\n",
        "print('This is r2:',r2)\n",
        "\n",
        "n2 = r2 - np.dot(r2,u1)*u1\n",
        "print('This is n2:',n2)\n",
        "\n",
        "print('Magnitude:',np.sqrt(np.dot(n2,n2)))\n",
        "\n",
        "u2 = n2/np.sqrt(np.dot(n2,n2))\n",
        "print('This is u2:',u2)\n",
        "\n",
        "#Checking to see if U1 and U4 are orthogonal\n",
        "print('Check orthogonal u4 * u1:',np.dot(u2,u1))\n",
        "print('Check orthogonal u4 * u2:',np.dot(u2,u2))\n"
      ],
      "execution_count": 76,
      "outputs": [
        {
          "output_type": "stream",
          "text": [
            "This is r2: [2, 6, -2, 2]\n",
            "This is n2: [2. 2. 2. 2.]\n",
            "Magnitude: 4.0\n",
            "This is u2: [0.5 0.5 0.5 0.5]\n",
            "Check orthogonal u4 * u1: -3.2354269956215097e-16\n",
            "Check orthogonal u4 * u2: 1.0\n"
          ],
          "name": "stdout"
        }
      ]
    },
    {
      "cell_type": "code",
      "metadata": {
        "colab": {
          "base_uri": "https://localhost:8080/"
        },
        "id": "s0EI2i5vP_hC",
        "outputId": "cfc05004-1b4e-40d8-ea01-7787b8367280"
      },
      "source": [
        "#Finding U3\n",
        "print('This is r3:',r3)\n",
        "\n",
        "n3 = r3 - np.dot(r3,u1)*u1 - np.dot(r3,u2)*u2\n",
        "print('This is n3:',n3)\n",
        "\n",
        "print('Magnitude:',np.sqrt(np.dot(n3,n3)))\n",
        "\n",
        "u3 = n3/np.sqrt(np.dot(n3,n3))\n",
        "print('This is u3:',u3)\n",
        "\n",
        "#Checking to see if U1 and U4 are orthogonal\n",
        "print('Check orthogonal u4 * u1:',np.dot(u3,u1))\n",
        "print('Check orthogonal u4 * u2:',np.dot(u3,u2))\n",
        "print('Check orthogonal u4 * u3:',np.dot(u3,u3))\n",
        "\n"
      ],
      "execution_count": 74,
      "outputs": [
        {
          "output_type": "stream",
          "text": [
            "This is r3: [-2, 1, -3, 0]\n",
            "This is n3: [-1.00000000e+00 -4.44089210e-16  1.33226763e-15  1.00000000e+00]\n",
            "Magnitude: 1.4142135623730951\n",
            "This is u3: [-7.07106781e-01 -3.14018492e-16  9.42055475e-16  7.07106781e-01]\n",
            "Check orthogonal u4 * u1: -8.881784197001252e-16\n",
            "Check orthogonal u4 * u2: 6.106226635438361e-16\n",
            "Check orthogonal u4 * u3: 0.9999999999999998\n"
          ],
          "name": "stdout"
        }
      ]
    },
    {
      "cell_type": "code",
      "metadata": {
        "colab": {
          "base_uri": "https://localhost:8080/"
        },
        "id": "iKVIGlkHSO6X",
        "outputId": "327b09a7-25e4-4852-a659-aa763685b23e"
      },
      "source": [
        "#Finding U4\n",
        "print('This is r4:',r4)\n",
        "\n",
        "n4 = r3 - np.dot(r4,u1)*u1 - np.dot(r4,u2)*u2 - np.dot(r4,u3)*u3\n",
        "print('This is n4:',n4)\n",
        "\n",
        "print('Magnitude:',np.sqrt(np.dot(n4,n4)))\n",
        "\n",
        "u4 = n4/np.sqrt(np.dot(n4,n4))\n",
        "print('This is u4:',u4)\n",
        "\n",
        "#Checking to see if U1 and U4 are orthogonal\n",
        "print('Check orthogonal u4 * u1:',np.dot(u4,u1))\n",
        "print('Check orthogonal u4 * u2:',np.dot(u4,u2))\n",
        "print('Check orthogonal u4 * u3:',np.dot(u4,u3))\n",
        "print('Check orthogonal u4 * u4:',np.dot(u4,u4))"
      ],
      "execution_count": 75,
      "outputs": [
        {
          "output_type": "stream",
          "text": [
            "This is r4: [2, -4, -2, -4]\n",
            "This is n4: [-3.  4. -2.  5.]\n",
            "Magnitude: 7.348469228349533\n",
            "This is u4: [-0.40824829  0.54433105 -0.27216553  0.68041382]\n",
            "Check orthogonal u4 * u1: 0.5773502691896253\n",
            "Check orthogonal u4 * u2: 0.2721655269759088\n",
            "Check orthogonal u4 * u3: 0.7698003589195007\n",
            "Check orthogonal u4 * u4: 0.9999999999999997\n"
          ],
          "name": "stdout"
        }
      ]
    },
    {
      "cell_type": "code",
      "metadata": {
        "colab": {
          "base_uri": "https://localhost:8080/"
        },
        "id": "DWoLKKdQSO89",
        "outputId": "3b628d14-21f0-4cc9-f7f5-8ab38485ffe3"
      },
      "source": [
        "# Checking to See if unit vectors are orthogonal\n",
        "\n",
        "print('Check orthogonal u1 * u1:',np.dot(u1,u1))\n",
        "\n",
        "print('Check orthogonal u2 * u1:',np.dot(u2,u1))\n",
        "print('Check orthogonal u2 * u2:',np.dot(u2,u2))\n",
        "\n",
        "print('Check orthogonal u3 * u1:',np.dot(u3,u1))\n",
        "print('Check orthogonal u3 * u2:',np.dot(u3,u2))\n",
        "print('Check orthogonal u3 * u3:',np.dot(u3,u3))\n",
        "\n",
        "print('Check orthogonal u4 * u1:',np.dot(u4,u1))\n",
        "print('Check orthogonal u4 * u2:',np.dot(u4,u2))\n",
        "print('Check orthogonal u4 * u3:',np.dot(u4,u3))\n",
        "print('Check orthogonal u4 * u4:',np.dot(u4,u4))"
      ],
      "execution_count": 83,
      "outputs": [
        {
          "output_type": "stream",
          "text": [
            "Check orthogonal u1 * u1: 1.0000000000000002\n",
            "Check orthogonal u2 * u1: -3.2354269956215097e-16\n",
            "Check orthogonal u2 * u2: 1.0\n",
            "Check orthogonal u3 * u1: -8.881784197001252e-16\n",
            "Check orthogonal u3 * u2: 6.106226635438361e-16\n",
            "Check orthogonal u3 * u3: 0.9999999999999998\n",
            "Check orthogonal u4 * u1: 0.5773502691896253\n",
            "Check orthogonal u4 * u2: 0.2721655269759088\n",
            "Check orthogonal u4 * u3: 0.7698003589195007\n",
            "Check orthogonal u4 * u4: 0.9999999999999997\n"
          ],
          "name": "stdout"
        }
      ]
    },
    {
      "cell_type": "code",
      "metadata": {
        "colab": {
          "base_uri": "https://localhost:8080/"
        },
        "id": "omn887xqhfta",
        "outputId": "e1ff1499-cc5c-472a-f546-7c625c4ed907"
      },
      "source": [
        "# Finding Linear combinations\n",
        "v = [11,5,20,19]\n",
        "v"
      ],
      "execution_count": 61,
      "outputs": [
        {
          "output_type": "execute_result",
          "data": {
            "text/plain": [
              "[11, 5, 20, 19]"
            ]
          },
          "metadata": {
            "tags": []
          },
          "execution_count": 61
        }
      ]
    },
    {
      "cell_type": "code",
      "metadata": {
        "colab": {
          "base_uri": "https://localhost:8080/"
        },
        "id": "TLbbMHoqhmDi",
        "outputId": "df7e716a-70c0-4d8b-cf50-55907c9cd6e4"
      },
      "source": [
        "lc1 = np.dot(u1,v)\n",
        "lc2 = np.dot(u2,v)\n",
        "lc3 = np.dot(u3,v)\n",
        "lc4 = np.dot(u4,v)\n",
        "print(lc1,lc2,lc3,lc4)"
      ],
      "execution_count": 67,
      "outputs": [
        {
          "output_type": "stream",
          "text": [
            "-10.606601717798213 27.500000000000004 5.656854249492407 5.715476066494097\n"
          ],
          "name": "stdout"
        }
      ]
    },
    {
      "cell_type": "code",
      "metadata": {
        "colab": {
          "base_uri": "https://localhost:8080/"
        },
        "id": "kbNMJi9Mhqg9",
        "outputId": "5c751dd2-c19d-4258-dcba-bc4adfb0a31f"
      },
      "source": [
        "(lc1*u1) + (lc2*u2) + (lc3*u3) + (lc4*u4) "
      ],
      "execution_count": 79,
      "outputs": [
        {
          "output_type": "execute_result",
          "data": {
            "text/plain": [
              "array([ 7.41666667,  9.36111111, 19.69444444, 21.63888889])"
            ]
          },
          "metadata": {
            "tags": []
          },
          "execution_count": 79
        }
      ]
    }
  ]
}