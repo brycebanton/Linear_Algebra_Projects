{
  "nbformat": 4,
  "nbformat_minor": 0,
  "metadata": {
    "colab": {
      "name": "Sports Teams Rankings.ipynb",
      "provenance": [],
      "collapsed_sections": [],
      "include_colab_link": true
    },
    "kernelspec": {
      "name": "python3",
      "display_name": "Python 3"
    }
  },
  "cells": [
    {
      "cell_type": "markdown",
      "metadata": {
        "id": "view-in-github",
        "colab_type": "text"
      },
      "source": [
        "<a href=\"https://colab.research.google.com/github/brycebanton/Linear_Algebra_Projects/blob/main/Sports_Teams_Rankings.ipynb\" target=\"_parent\"><img src=\"https://colab.research.google.com/assets/colab-badge.svg\" alt=\"Open In Colab\"/></a>"
      ]
    },
    {
      "cell_type": "markdown",
      "metadata": {
        "id": "TwGBRAD9R6W4"
      },
      "source": [
        "# Load the preliminary code"
      ]
    },
    {
      "cell_type": "code",
      "metadata": {
        "id": "NaP8xyCfRrUg"
      },
      "source": [
        "import matplotlib.pyplot as plt\n",
        "from sympy import Poly\n",
        "import sympy as sym\n",
        "import numpy as np\n",
        "from numpy import c_\n",
        "\n",
        "# We'll specify that x and t are variables:\n",
        "x, t = sym.symbols('x, t')\n",
        "\n",
        "ll = \"loaded\""
      ],
      "execution_count": 1,
      "outputs": []
    },
    {
      "cell_type": "code",
      "metadata": {
        "id": "CANB9fuMRyBP",
        "colab": {
          "base_uri": "https://localhost:8080/"
        },
        "outputId": "fbc964bd-68a2-48c3-b45e-c4786c3ac268"
      },
      "source": [
        "lll = \" correctly!\"\n",
        "\n",
        "def rref(matrix):\n",
        "    A = np.array(matrix, dtype=np.float64)\n",
        "    \n",
        "    r = 0 #row\n",
        "    c = 0 #column\n",
        "\n",
        "    (maxr, maxc) = A.shape\n",
        "\n",
        "    prev_row_pivot = -1   # The previous row with a leading term:\n",
        "    tmp_pivot_row = -1\n",
        "    this_pivot_row = -1\n",
        "\n",
        "    for c in range(maxc):  # go through each column\n",
        "      tmp_pivot_row = -1  # reset the tmp pivot row\n",
        "      this_pivot_row = -1  # reset this pivot row\n",
        "      for r in range(maxr):  # Find the leading term in this column below prev_row_pivot\n",
        "        if ((r > prev_row_pivot) and (A[r][c] != 0.0)):\n",
        "          tmp_pivot_row = r  # find the new pivot row\n",
        "      if (tmp_pivot_row > -1):  # we found a candidate for the leading term:\n",
        "        #swap row this_pivot_row with (prev_row_pivot + 1)\n",
        "        A[[tmp_pivot_row, prev_row_pivot+1]] = A[[prev_row_pivot + 1, tmp_pivot_row]]\n",
        "        #set this_pivot_row to prev_row_pivot+1\n",
        "        this_pivot_row = prev_row_pivot + 1\n",
        "        #Now, normalize the row based on the pivot value:\n",
        "        A[ this_pivot_row ] = A[ this_pivot_row ] / A[ this_pivot_row ][c]\n",
        "        #Then, use this row to force 0's above and below the pivot entry:\n",
        "        #subtract multiples of of the this_pivot_row row from the others\n",
        "        for r_ in range(len(A)):\n",
        "            if r_ != this_pivot_row:\n",
        "                A[r_] = A[r_] - A[this_pivot_row] * A[r_][c] / A[this_pivot_row][c]\n",
        "        prev_row_pivot = this_pivot_row\n",
        "    return A   \n",
        "\n",
        "\n",
        "def is_singular(matrix):\n",
        "  singular = True\n",
        "  notsingular = False\n",
        "\n",
        "  (mr, mc) = matrix.shape\n",
        "  \n",
        "  return_value = notsingular\n",
        "  if (mc - np.linalg.linalg.matrix_rank(matrix) > 0) :\n",
        "    return_value = singular\n",
        "  return return_value\n",
        " \n",
        "    \n",
        "    \n",
        "\n",
        "print(\">> The page \", ll, lll)"
      ],
      "execution_count": 2,
      "outputs": [
        {
          "output_type": "stream",
          "text": [
            ">> The page  loaded  correctly!\n"
          ],
          "name": "stdout"
        }
      ]
    },
    {
      "cell_type": "markdown",
      "metadata": {
        "id": "dCB31bhvTulU"
      },
      "source": [
        "# Ranking Teams based on games\n",
        "\n",
        "From our packet, we saw there were five games:\n",
        "\n",
        "Home  | Away\n",
        "------|------\n",
        "Winona State 16 | Sioux Falls 15\n",
        "Winona State 34 | Augustana 20\n",
        "Sioux Falls 51  | Augustana 13\n",
        "Duluth 28       |  Augustana 17\n",
        "Winona State 17 | Duluth 37\n",
        "\n",
        "Let's encode this system into a matrix.\n",
        "\n",
        "The unknown rankings are $r_w, r_s, r_a, r_d$.\n",
        "\n",
        "The system looks like $M \\vec{x} = \\vec{b}$, or\n",
        "\n",
        "$$\n",
        "\\left( \\begin{array}{cccc} 1 & -1 & 0 & 0 \\\\ 1 & 0 & -1 & 0 \\\\ 0 & 1 & -1 & 0 \\\\ 0 & 0 & -1 & 1 \\\\ -1 & 0  & 0 & 1 \\\\ \\end{array} \\right) \\, \\left( \\begin{array}{c} r_w \\\\ r_s \\\\ r_a \\\\ r_d \\\\ \\end{array} \\right) = \\left( \\begin{array}{c} 1 \\\\ 14 \\\\ 38 \\\\ 11 \\\\ 20 \\\\ \\end{array} \\right)$$\n",
        "\n",
        "We'll solve this system using least squares \n",
        "$$M^T I M \\vec{x} = M^T I \\vec{b} $$\n",
        "\n",
        "$$ \\vec{x} = \\left( M^T I M  \\right)^{-1} M^T I \\vec{b} $$\n",
        "\n",
        "\n",
        "\n",
        "\n"
      ]
    },
    {
      "cell_type": "code",
      "metadata": {
        "id": "zZOH_e5mViMs",
        "colab": {
          "base_uri": "https://localhost:8080/"
        },
        "outputId": "27bddd69-b38c-4133-e6c1-fe29575ff0b1"
      },
      "source": [
        "# create the matrix:\n",
        "M = np.matrix([[1, 0, 0, 0, -1, 0, 0],\n",
        "               [1, -1, 0, 0 ,0 ,0 ,0],\n",
        "               [1, 0, 0, 0, 0, 0, -1],\n",
        "               [-1, 0, 0, 1, 0, 0, 0],\n",
        "               [1, 0, 0, 0, -1, 0, 0],\n",
        "               [-1, 0, 1, 0, 0, 0, 0],\n",
        "               [1, 0, 0, 1, 0, 0, -1],\n",
        "               [-1, 0, 0, 1, 0, 0, 0],\n",
        "               [-1, 0, 0, 0, 0, 1, 0],\n",
        "               [-1, 0, 1, 0, 0, 0, 0],\n",
        "               [0, -1, 0, 1, 0, 0, 0],\n",
        "               [0, 1, -1, 0, 0, 0, 0],\n",
        "               [0, -1, 1, 0, 0, 0, 0],\n",
        "               [0, -1, 0, 0, 0, 1, 0],\n",
        "               [0, 1, 0, 0, -1, 0, 0],\n",
        "               [0, 1, 0, 0, 0, -1, 0],\n",
        "               [0, -1, 0, 1, 0, 0, 0],\n",
        "               [0, -1, 0, 0, 0, 0, 1],\n",
        "               [0, -1, 0, 0, 1, 0, 0],\n",
        "               [0, 0, 1, 0, 0, -1, 0],\n",
        "               [0, 0, 1, 0, 0, 0, -1],\n",
        "               [0, 0, 1, 0, 0, 0, -1],\n",
        "               [0, 0, -1, 1, 0, 0, 0],\n",
        "               [0, 0, 1, 0, -1, 0, 0],\n",
        "               [0, 0, 0, 1, 0, -1, 0],\n",
        "               [0, 0, 0, 1, 0, 0, -1],\n",
        "               [0, 0, 0, 1, -1, 0, 0],\n",
        "               [0, 0, 0, 1, 0, 0, -1],\n",
        "               [0, 0, 0, 1, -1, 0, 0],\n",
        "               [0, 0, 0, 0, -1, 1, 0],\n",
        "               [0, 0, 0, 0, 1, -1, 0],\n",
        "               [0, 0, 0, 0, -1, 0, 1],\n",
        "               [0, 0, 0, 0, -1, 0, 1],\n",
        "               [0, 0, 0, 0, 0, 1, -1],\n",
        "               [0, 0, 0, 0, 0, 1, -1],\n",
        "               [0, 0, 0, 0, 0, 1, -1],\n",
        "               [0, 0, 0, 0, 0, 1, -1]\n",
        "               \n",
        "                ])\n",
        "\n",
        "\n",
        "# create the vector for the right hand side:\n",
        "pts = np.matrix([[14], [12], [16], [15], [13], [15], [17], [5], [4], [4], [27], [7], [15], [19], [18], [3],\n",
        "                 [31], [8], [4], [15], [15], [23], [5], [38], [8], [25], [5], [7], [16], [17], [14], [5], [5],\n",
        "                 [5], [3], [13], [14]\n",
        "                \n",
        "                ])\n",
        " \n",
        "#Make sure the system looks appropriate:\n",
        "print(np.c_[M,pts])"
      ],
      "execution_count": null,
      "outputs": [
        {
          "output_type": "stream",
          "text": [
            "[[ 1  0  0  0 -1  0  0 14]\n",
            " [ 1 -1  0  0  0  0  0 12]\n",
            " [ 1  0  0  0  0  0 -1 16]\n",
            " [-1  0  0  1  0  0  0 15]\n",
            " [ 1  0  0  0 -1  0  0 13]\n",
            " [-1  0  1  0  0  0  0 15]\n",
            " [ 1  0  0  1  0  0 -1 17]\n",
            " [-1  0  0  1  0  0  0  5]\n",
            " [-1  0  0  0  0  1  0  4]\n",
            " [-1  0  1  0  0  0  0  4]\n",
            " [ 0 -1  0  1  0  0  0 27]\n",
            " [ 0  1 -1  0  0  0  0  7]\n",
            " [ 0 -1  1  0  0  0  0 15]\n",
            " [ 0 -1  0  0  0  1  0 19]\n",
            " [ 0  1  0  0 -1  0  0 18]\n",
            " [ 0  1  0  0  0 -1  0  3]\n",
            " [ 0 -1  0  1  0  0  0 31]\n",
            " [ 0 -1  0  0  0  0  1  8]\n",
            " [ 0 -1  0  0  1  0  0  4]\n",
            " [ 0  0  1  0  0 -1  0 15]\n",
            " [ 0  0  1  0  0  0 -1 15]\n",
            " [ 0  0  1  0  0  0 -1 23]\n",
            " [ 0  0 -1  1  0  0  0  5]\n",
            " [ 0  0  1  0 -1  0  0 38]\n",
            " [ 0  0  0  1  0 -1  0  8]\n",
            " [ 0  0  0  1  0  0 -1 25]\n",
            " [ 0  0  0  1 -1  0  0  5]\n",
            " [ 0  0  0  1  0  0 -1  7]\n",
            " [ 0  0  0  1 -1  0  0 16]\n",
            " [ 0  0  0  0 -1  1  0 17]\n",
            " [ 0  0  0  0  1 -1  0 14]\n",
            " [ 0  0  0  0 -1  0  1  5]\n",
            " [ 0  0  0  0 -1  0  1  5]\n",
            " [ 0  0  0  0  0  1 -1  5]\n",
            " [ 0  0  0  0  0  1 -1  3]\n",
            " [ 0  0  0  0  0  1 -1 13]\n",
            " [ 0  0  0  0  0  1 -1 14]]\n"
          ],
          "name": "stdout"
        }
      ]
    },
    {
      "cell_type": "code",
      "metadata": {
        "id": "s_r-ljCGWB18",
        "colab": {
          "base_uri": "https://localhost:8080/"
        },
        "outputId": "7d97d38c-4bb4-4452-9b74-acd0ecbe138d"
      },
      "source": [
        "# Generate the transpose of M:\n",
        "MT = M.transpose()\n",
        "\n",
        "print(\"The Transpose of M is:\")\n",
        "print(MT)\n",
        "\n",
        "# and find MT*M and MT*pts:\n",
        "print(\"\\n\")\n",
        "print(\"MT * M is: \")\n",
        "MTM = MT * M\n",
        "print(MTM)\n",
        "\n",
        "print(\"\\n\")\n",
        "print(\"MT * pts is:\")\n",
        "MTpts = MT * pts\n",
        "print(MTpts)\n"
      ],
      "execution_count": null,
      "outputs": [
        {
          "output_type": "stream",
          "text": [
            "The Transpose of M is:\n",
            "[[ 1  1  1 -1  1 -1  1 -1 -1 -1  0  0  0  0  0  0  0  0  0  0  0  0  0  0\n",
            "   0  0  0  0  0  0  0  0  0  0  0  0  0]\n",
            " [ 0 -1  0  0  0  0  0  0  0  0 -1  1 -1 -1  1  1 -1 -1 -1  0  0  0  0  0\n",
            "   0  0  0  0  0  0  0  0  0  0  0  0  0]\n",
            " [ 0  0  0  0  0  1  0  0  0  1  0 -1  1  0  0  0  0  0  0  1  1  1 -1  1\n",
            "   0  0  0  0  0  0  0  0  0  0  0  0  0]\n",
            " [ 0  0  0  1  0  0  1  1  0  0  1  0  0  0  0  0  1  0  0  0  0  0  1  0\n",
            "   1  1  1  1  1  0  0  0  0  0  0  0  0]\n",
            " [-1  0  0  0 -1  0  0  0  0  0  0  0  0  0 -1  0  0  0  1  0  0  0  0 -1\n",
            "   0  0 -1  0 -1 -1  1 -1 -1  0  0  0  0]\n",
            " [ 0  0  0  0  0  0  0  0  1  0  0  0  0  1  0 -1  0  0  0 -1  0  0  0  0\n",
            "  -1  0  0  0  0  1 -1  0  0  1  1  1  1]\n",
            " [ 0  0 -1  0  0  0 -1  0  0  0  0  0  0  0  0  0  0  1  0  0 -1 -1  0  0\n",
            "   0 -1  0 -1  0  0  0  1  1 -1 -1 -1 -1]]\n",
            "\n",
            "\n",
            "MT * M is: \n",
            "[[10 -1 -2 -1 -2 -1 -2]\n",
            " [-1 10 -2 -2 -2 -2 -1]\n",
            " [-2 -2  9 -1 -1 -1 -2]\n",
            " [-1 -2 -1 11 -2 -1 -3]\n",
            " [-2 -2 -1 -2 11 -2 -2]\n",
            " [-1 -2 -1 -1 -2 11 -4]\n",
            " [-2 -1 -2 -3 -2 -4 13]]\n",
            "\n",
            "\n",
            "MT * pts is:\n",
            "[[  29]\n",
            " [ -88]\n",
            " [ 113]\n",
            " [ 161]\n",
            " [-113]\n",
            " [  35]\n",
            " [-120]]\n"
          ],
          "name": "stdout"
        }
      ]
    },
    {
      "cell_type": "markdown",
      "metadata": {
        "id": "x38H0uPwbhpF"
      },
      "source": [
        "If $M^T M$ has an inverse, then we can use it.  But, if $M^T M$ is singular, then it doesn't have an inverse.  In this situation, we need to replace every entry in one row (say the bottom row) of $M^T M$ and $M^T \\vec{pts}$ with 1's.  (This knocks the system out of *not* having an inverse, so it will now have an inverse.)"
      ]
    },
    {
      "cell_type": "code",
      "metadata": {
        "id": "1ebWW4rZaopa",
        "colab": {
          "base_uri": "https://localhost:8080/"
        },
        "outputId": "1c1879ba-51e3-4f14-9be7-8b127701d48b"
      },
      "source": [
        "#  Check if MTM is singular\n",
        "is_singular(MT*M)"
      ],
      "execution_count": null,
      "outputs": [
        {
          "output_type": "execute_result",
          "data": {
            "text/plain": [
              "False"
            ]
          },
          "metadata": {
            "tags": []
          },
          "execution_count": 9
        }
      ]
    },
    {
      "cell_type": "code",
      "metadata": {
        "id": "Hs_ZR78AbziT",
        "colab": {
          "base_uri": "https://localhost:8080/"
        },
        "outputId": "c703b4e6-5c49-4bbb-a501-0ed750d5dc9a"
      },
      "source": [
        "# If MTM is singular, then adjust one row of MTM and MT pts to be just 1's:\n",
        "\n",
        "#MTM[3] is the entire 4th row of MTM, \n",
        "#so MTM[3] = 1 will put 1's in MTM's 4th row.\n",
        "\n",
        "MTM[3] = 1\n",
        "MTpts[3] = 1\n",
        "\n",
        "print(\"MTM is now: \")\n",
        "print(MTM)\n",
        "\n",
        "print(\"and MTpts is now:\")\n",
        "print(MTpts)\n",
        "\n",
        "print(\"Is our modified MTM singular?\")\n",
        "is_singular(MTM)"
      ],
      "execution_count": null,
      "outputs": [
        {
          "output_type": "stream",
          "text": [
            "MTM is now: \n",
            "[[10 -1 -2 -1 -2 -1 -2]\n",
            " [-1 10 -2 -2 -2 -2 -1]\n",
            " [-2 -2  9 -1 -1 -1 -2]\n",
            " [ 1  1  1  1  1  1  1]\n",
            " [-2 -2 -1 -2 11 -2 -2]\n",
            " [-1 -2 -1 -1 -2 11 -4]\n",
            " [-2 -1 -2 -3 -2 -4 13]]\n",
            "and MTpts is now:\n",
            "[[  29]\n",
            " [ -88]\n",
            " [ 113]\n",
            " [   1]\n",
            " [-113]\n",
            " [  35]\n",
            " [-120]]\n",
            "Is our modified MTM singular?\n"
          ],
          "name": "stdout"
        },
        {
          "output_type": "execute_result",
          "data": {
            "text/plain": [
              "False"
            ]
          },
          "metadata": {
            "tags": []
          },
          "execution_count": 6
        }
      ]
    },
    {
      "cell_type": "code",
      "metadata": {
        "id": "48WK4ZH7WRxH",
        "colab": {
          "base_uri": "https://localhost:8080/"
        },
        "outputId": "75d45201-4d7d-41c9-e633-2e57f0e0d922"
      },
      "source": [
        "#Find our solution using the inverse of MTM:\n",
        "\n",
        "#First, find the inverse of MTM:\n",
        "MTMI = np.linalg.inv(MTM)\n",
        "\n",
        "print(\"The inverse of MTM is:\")\n",
        "print(MTMI)\n",
        "\n",
        "#Now, use the inverse of MTM to solve for the rankings:\n",
        "\n",
        "print(\"\\n\")\n",
        "print(\"The solution are rankings:\")\n",
        "MTMI * MTpts"
      ],
      "execution_count": null,
      "outputs": [
        {
          "output_type": "stream",
          "text": [
            "The inverse of MTM is:\n",
            "[[1.16036928 1.16275249 1.17448344 1.08297277 1.16786598 1.1865846\n",
            "  1.24334205]\n",
            " [1.16275249 1.35679009 1.27630852 1.18486468 1.27042633 1.29716611\n",
            "  1.34761717]\n",
            " [1.17448344 1.27630852 1.37299439 1.18155595 1.26717159 1.29455923\n",
            "  1.3560394 ]\n",
            " [1.08297277 1.18486468 1.18155595 1.18172563 1.18342241 1.20378383\n",
            "  1.2646984 ]\n",
            " [1.16786598 1.27042633 1.26717159 1.18342241 1.34593067 1.29602978\n",
            "  1.3512884 ]\n",
            " [1.1865846  1.29716611 1.29455923 1.20378383 1.29602978 1.4029812\n",
            "  1.39036843]\n",
            " [1.24334205 1.34761717 1.3560394  1.2646984  1.3512884  1.39036843\n",
            "  1.50804045]]\n",
            "\n",
            "\n",
            "The solution are rankings:\n"
          ],
          "name": "stdout"
        },
        {
          "output_type": "execute_result",
          "data": {
            "text/plain": [
              "matrix([[ -1.23570652],\n",
              "        [-10.56305226],\n",
              "        [  6.51820059],\n",
              "        [  7.55366081],\n",
              "        [-13.09173692],\n",
              "        [ -3.83650966],\n",
              "        [-10.68204571]])"
            ]
          },
          "metadata": {
            "tags": []
          },
          "execution_count": 10
        }
      ]
    },
    {
      "cell_type": "markdown",
      "metadata": {
        "id": "YOTdLT4-R-1h"
      },
      "source": [
        "#  Game Data  - Fall Sports\n",
        "\n",
        "Find the game data for the four teams in the NFC North and NFC South.\n",
        "\n",
        "The teams are:\n",
        "\n",
        "* **NFC North:**  Green Bay Packers, Chicago Bears, Detroit Lions, Minnesota Vikings\n",
        "* **NFC South:**  Atlanta Falcons, Carolina Panthers, New Orleans Saints, Tampa Bay Buccaneers\n",
        "\n",
        "\n",
        "It may be helpful to do a google search to find the data.\n",
        "\n",
        "Be sure to create your matrix on the handout, then enter the data for the system below.\n",
        "\n",
        "# Game Data - Spring Sports\n",
        "\n",
        "Find the game data for the seven teams in the Western Division for Men's Big Ten Basketball.\n",
        "\n",
        "**The teams:**  Wisconsin, Minnesota, Iowa, Illinois, Nebraska, Purdue, and Northewstern.\n",
        "\n",
        "I've provided **most** of the data, but you have to do a Google search to find the scores for the last two teams.\n",
        "\n",
        "Be sure to create your matrix on the handout, then enter the data for the system below.\n"
      ]
    },
    {
      "cell_type": "code",
      "metadata": {
        "id": "JAyCCZ2BCFSC"
      },
      "source": [
        "from math import *"
      ],
      "execution_count": 4,
      "outputs": []
    },
    {
      "cell_type": "code",
      "metadata": {
        "id": "RrMkbXIC5v_X",
        "outputId": "97bee470-b016-41dd-e16a-d65070ce827f",
        "colab": {
          "base_uri": "https://localhost:8080/"
        }
      },
      "source": [
        "# create the matrix:\n",
        "M = np.matrix([[1/3, 0, 4*sqrt(2)/6],\n",
        "               [2/3, 1/sqrt(2), -sqrt(2)/6],\n",
        "               [2/3, -1/sqrt(2), -sqrt(2)/6]])\n",
        "\n",
        "\n",
        "# create the vector for the right hand side:\n",
        "pts = np.matrix([[9], [2], [-2]])\n",
        " \n",
        "#Make sure the system looks appropriate:\n",
        "print(np.c_[M,pts])"
      ],
      "execution_count": 14,
      "outputs": [
        {
          "output_type": "stream",
          "text": [
            "[[ 0.33333333  0.          0.94280904  9.        ]\n",
            " [ 0.66666667  0.70710678 -0.23570226  2.        ]\n",
            " [ 0.66666667 -0.70710678 -0.23570226 -2.        ]]\n"
          ],
          "name": "stdout"
        }
      ]
    },
    {
      "cell_type": "code",
      "metadata": {
        "id": "TLLB3Ebe587M",
        "outputId": "f3ea3154-4642-432c-e5e5-34e9fc415855",
        "colab": {
          "base_uri": "https://localhost:8080/"
        }
      },
      "source": [
        "# Generate the transpose of M:\n",
        "MT = M.transpose()\n",
        "\n",
        "print(\"The Transpose of M is:\")\n",
        "print(MT)\n",
        "\n",
        "# and find MT*M and MT*pts:\n",
        "print(\"\\n\")\n",
        "print(\"MT * M is: \")\n",
        "MTM = MT * M\n",
        "print(MTM)\n",
        "\n",
        "print(\"\\n\")\n",
        "print(\"MT * pts is:\")\n",
        "MTpts = MT * pts\n",
        "print(MTpts)\n"
      ],
      "execution_count": 15,
      "outputs": [
        {
          "output_type": "stream",
          "text": [
            "The Transpose of M is:\n",
            "[[ 0.33333333  0.66666667  0.66666667]\n",
            " [ 0.          0.70710678 -0.70710678]\n",
            " [ 0.94280904 -0.23570226 -0.23570226]]\n",
            "\n",
            "\n",
            "MT * M is: \n",
            "[[1.00000000e+00 7.66449057e-18 8.72273588e-18]\n",
            " [7.66449057e-18 1.00000000e+00 1.24117317e-17]\n",
            " [8.72273588e-18 1.24117317e-17 1.00000000e+00]]\n",
            "\n",
            "\n",
            "MT * pts is:\n",
            "[[3.        ]\n",
            " [2.82842712]\n",
            " [8.48528137]]\n"
          ],
          "name": "stdout"
        }
      ]
    },
    {
      "cell_type": "code",
      "metadata": {
        "id": "VXqKSDj06BVa"
      },
      "source": [
        "#  Check if MTM is singular\n",
        "is_singular(MT*M)"
      ],
      "execution_count": null,
      "outputs": []
    },
    {
      "cell_type": "code",
      "metadata": {
        "id": "5E2eXRT76MQh"
      },
      "source": [
        "# Careful - you might not need to do this!  \n",
        "# Be sure to check whether MTM is singular on the previous line.\n",
        "\n",
        "# If MTM is singular, then adjust one row of MTM and MT pts to be just 1's:\n",
        "\n",
        "#MTM[3] is the entire 4th row of MTM, \n",
        "#so MTM[3] = 1 will put 1's in MTM's 4th row.\n",
        "\n",
        "MTM[3] = 1\n",
        "MTpts[3] = 1\n",
        "\n",
        "print(\"MTM is now: \")\n",
        "print(MTM)\n",
        "\n",
        "print(\"and MTpts is now:\")\n",
        "print(MTpts)\n",
        "\n",
        "print(\"Is our modified MTM singular?\")\n",
        "is_singular(MTM)"
      ],
      "execution_count": null,
      "outputs": []
    },
    {
      "cell_type": "code",
      "metadata": {
        "id": "UkDKmNba6YHi",
        "outputId": "f8594a1b-2d7f-42e2-ee2c-846041dc2700",
        "colab": {
          "base_uri": "https://localhost:8080/"
        }
      },
      "source": [
        "#Find our solution using the inverse of MTM:\n",
        "\n",
        "#First, find the inverse of MTM:\n",
        "MTMI = np.linalg.inv(MTM)\n",
        "\n",
        "print(\"The inverse of MTM is:\")\n",
        "print(MTMI)\n",
        "\n",
        "#Now, use the inverse of MTM to solve for the rankings:\n",
        "\n",
        "print(\"\\n\")\n",
        "print(\"The solution are rankings:\")\n",
        "MTMI * MTpts"
      ],
      "execution_count": 16,
      "outputs": [
        {
          "output_type": "stream",
          "text": [
            "The inverse of MTM is:\n",
            "[[ 1.00000000e+00 -7.66449057e-18 -8.72273588e-18]\n",
            " [-7.66449057e-18  1.00000000e+00 -1.24117317e-17]\n",
            " [-8.72273588e-18 -1.24117317e-17  1.00000000e+00]]\n",
            "\n",
            "\n",
            "The solution are rankings:\n"
          ],
          "name": "stdout"
        },
        {
          "output_type": "execute_result",
          "data": {
            "text/plain": [
              "matrix([[3.        ],\n",
              "        [2.82842712],\n",
              "        [8.48528137]])"
            ]
          },
          "metadata": {
            "tags": []
          },
          "execution_count": 16
        }
      ]
    }
  ]
}