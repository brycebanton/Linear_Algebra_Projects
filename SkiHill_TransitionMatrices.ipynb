{
  "nbformat": 4,
  "nbformat_minor": 0,
  "metadata": {
    "colab": {
      "name": "SkiHill_TransitionMatrices.ipynb",
      "provenance": [],
      "authorship_tag": "ABX9TyNIpWo8UWypiEabFi2L2ZOy",
      "include_colab_link": true
    },
    "kernelspec": {
      "name": "python3",
      "display_name": "Python 3"
    }
  },
  "cells": [
    {
      "cell_type": "markdown",
      "metadata": {
        "id": "view-in-github",
        "colab_type": "text"
      },
      "source": [
        "<a href=\"https://colab.research.google.com/github/brycebanton/Linear_Algebra_Projects/blob/main/SkiHill_TransitionMatrices.ipynb\" target=\"_parent\"><img src=\"https://colab.research.google.com/assets/colab-badge.svg\" alt=\"Open In Colab\"/></a>"
      ]
    },
    {
      "cell_type": "code",
      "metadata": {
        "id": "zTfyEuja3ScM"
      },
      "source": [
        "import numpy as np\r\n",
        "from numpy import c_\r\n",
        "\r\n",
        "ll = \"loaded\""
      ],
      "execution_count": 1,
      "outputs": []
    },
    {
      "cell_type": "code",
      "metadata": {
        "colab": {
          "base_uri": "https://localhost:8080/"
        },
        "id": "jjpRoOcb3Mwd",
        "outputId": "1c117eeb-ff4d-48ea-a991-4eb36765d825"
      },
      "source": [
        "# create the matrix M:\r\n",
        "M = np.matrix([[50/140, 0, 30/140, 20/140],\r\n",
        "               [90/140, 0, 0, 0],\r\n",
        "               [0, 90/90, 80/140, 40/140],\r\n",
        "               [0, 0, 30/140, 80/140]])\r\n",
        "M"
      ],
      "execution_count": 2,
      "outputs": [
        {
          "output_type": "execute_result",
          "data": {
            "text/plain": [
              "matrix([[0.35714286, 0.        , 0.21428571, 0.14285714],\n",
              "        [0.64285714, 0.        , 0.        , 0.        ],\n",
              "        [0.        , 1.        , 0.57142857, 0.28571429],\n",
              "        [0.        , 0.        , 0.21428571, 0.57142857]])"
            ]
          },
          "metadata": {
            "tags": []
          },
          "execution_count": 2
        }
      ]
    },
    {
      "cell_type": "code",
      "metadata": {
        "colab": {
          "base_uri": "https://localhost:8080/"
        },
        "id": "GcDRArmc3XI6",
        "outputId": "fb0a072a-00f9-411e-ce29-ab516d0e1692"
      },
      "source": [
        "#  The initial state of the system:\r\n",
        "x0 = np.matrix([[980], [0], [0], [0]])\r\n",
        "\r\n",
        "#Make a matrix, where each column is the result \r\n",
        "#of applying the matrix multiple times to the initial state x0:\r\n",
        "\r\n",
        "X = np.c_[x0, M*x0, M**2 * x0, M**3 * x0, M**4 * x0, M**5 * x0, M**10 * x0, M**15 * x0]\r\n",
        "\r\n",
        "#print out the X matrix, rounding the entries to 2 decimal places\r\n",
        "print(X.round(2))"
      ],
      "execution_count": 3,
      "outputs": [
        {
          "output_type": "stream",
          "text": [
            "[[980.   350.   125.   179.64 208.8  200.62 195.31 195.3 ]\n",
            " [  0.   630.   225.    80.36 115.48 134.23 125.64 125.55]\n",
            " [  0.     0.   630.   585.   453.21 432.32 439.48 439.43]\n",
            " [  0.     0.     0.   135.   202.5  212.83 219.57 219.71]]\n"
          ],
          "name": "stdout"
        }
      ]
    },
    {
      "cell_type": "code",
      "metadata": {
        "colab": {
          "base_uri": "https://localhost:8080/",
          "height": 295
        },
        "id": "5BkA1Zkc3fDh",
        "outputId": "ea53088b-21ba-437f-8bf8-672f980c12ad"
      },
      "source": [
        "import matplotlib.pyplot as plt\r\n",
        " \r\n",
        "x  = [0, 1, 2, 3, 4, 5, 10, 15]\r\n",
        "plt.plot(x, np.array(X[0])[0], label=\"Bunny Hill\")\r\n",
        "plt.plot(x, np.array(X[1])[0], label=\"Green Triangle\")\r\n",
        "plt.plot(x, np.array(X[2])[0], label=\"Double Black Diamond\")\r\n",
        "plt.plot(x, np.array(X[3])[0], label=\"Moguls\")\r\n",
        "plt.plot()\r\n",
        "\r\n",
        "plt.xlabel(\"# of Runs\")  # Update this label\r\n",
        "plt.ylabel(\"# of Skiers\")  # Update this label\r\n",
        "plt.title(\"# Of Skiers on Each Run\")  # Update the title\r\n",
        "plt.legend()\r\n",
        "plt.show()"
      ],
      "execution_count": 4,
      "outputs": [
        {
          "output_type": "display_data",
          "data": {
            "image/png": "[encoded data removed]",
            "text/plain": [
              "<Figure size 432x288 with 1 Axes>"
            ]
          },
          "metadata": {
            "tags": [],
            "needs_background": "light"
          }
        }
      ]
    },
    {
      "cell_type": "markdown",
      "metadata": {
        "id": "QaUGqtEy3rV9"
      },
      "source": [
        "# Question 6:\r\n",
        "\r\n",
        "Each ski run and chair lift ride takes approximately 12 minutes.  Where should the Chalet place their billboard to reacch the maximum number of skiers just before lunch?\r\n",
        "\r\n",
        "Insert your code to answer this question.  Be sure to explain your reasoning with your answer in the packet."
      ]
    },
    {
      "cell_type": "markdown",
      "metadata": {
        "id": "ICQrnN_o3yhj"
      },
      "source": [
        "#Question 7:\r\n",
        "Does our answer change if the skiers were able to do one more run in the morning than you had estimated?\r\n",
        "\r\n",
        "Insert your code to answer this question. Be sure to explain your reasoning with your answer in the packet.*italicized text*"
      ]
    },
    {
      "cell_type": "markdown",
      "metadata": {
        "id": "f2tSgKOs36Zz"
      },
      "source": [
        "#Homework for Markov Chanins and Skiing\r\n",
        "\r\n",
        "Answer the following two situations on the printed homework.  The questions are copied here for your convenience - but you will turn in your homework pages with your answers written on those pages.\r\n",
        "\r\n",
        "## Situation 1:  \r\n",
        "\r\n",
        "We use the same set-up as the previous ski problem, except that we assume these changes to the initial data used to form matrix $M$:\r\n",
        "\r\n",
        "* After each run, 20 skiers from the Green Triangle head to the Chalet instead of to the Double Black Diamond.\r\n",
        "* After each run, 30 skiers from the Double Black Diamond go to the Chalet instead of going back to the Double Black Diamond run.\r\n",
        "* On each run, all skiers leaving the lodge go to the Bunny Hill.\r\n",
        "\r\n",
        "\r\n",
        "## HW 1:\r\n",
        "\r\n",
        "What is your new matrix system for this modification?  Give your new system and explain how you modified your old system to fit this new situation."
      ]
    },
    {
      "cell_type": "markdown",
      "metadata": {
        "id": "kGGBi-gg4AMQ"
      },
      "source": [
        "## HW 2: \r\n",
        "\r\n",
        "Long term, did changing the system affect which ski run was most popular?\r\n",
        "\r\n",
        "Note:  It may be helpful to copy some of the code from above to answer this question. \r\n"
      ]
    },
    {
      "cell_type": "markdown",
      "metadata": {
        "id": "v7D8ICY04B_P"
      },
      "source": [
        "# Situation 2:  \r\n",
        "\r\n",
        "People who enter the ski lodge don't return immediately to the Bunny Hill. Instead, they get hot chocolate and sit for, in effect, 3 ski runs. In this situation, where do most people spend their time during a day of skiing?\r\n",
        "\r\n",
        "## HW 3:  \r\n",
        "\r\n",
        "What is your new matrix system for this modification?  Give your new system and explain how you modified your old system to fit this new situation."
      ]
    },
    {
      "cell_type": "code",
      "metadata": {
        "id": "Ir_REfLN3zxJ"
      },
      "source": [
        ""
      ],
      "execution_count": null,
      "outputs": []
    },
    {
      "cell_type": "markdown",
      "metadata": {
        "id": "Zaqbh-f24I4h"
      },
      "source": [
        "## HW 4:\r\n",
        "\r\n",
        "Long term, did changing the system affect which ski run was most popular?"
      ]
    },
    {
      "cell_type": "code",
      "metadata": {
        "id": "8Y0PMuls4Jjc"
      },
      "source": [
        ""
      ],
      "execution_count": null,
      "outputs": []
    },
    {
      "cell_type": "markdown",
      "metadata": {
        "id": "UhTpygxQ4Kka"
      },
      "source": [
        "# Situation 3:\r\n",
        "\r\n",
        "## Markov Chains and Transformation Matrix Project:\r\n",
        "\r\n",
        "Copy and modify examples of the code above to model the scenario described in the packet.\r\n",
        "\r\n",
        "Provide a 1-page executive summary of this situation described in the packet.  It should be written with complete sentences and include:\r\n",
        "\r\n",
        "  1.\tThe posed problem\r\n",
        "  2.\tA description of the matrix\r\n",
        "  3.\tAn example showing the initial state, the first, and the second state of the system.\r\n",
        "  4.\tA graph showing how the system evolves over time\r\n",
        "  5.\tA conclusion about the long-term trend of the system."
      ]
    },
    {
      "cell_type": "code",
      "metadata": {
        "id": "GL4Bycgm4NeQ"
      },
      "source": [
        ""
      ],
      "execution_count": null,
      "outputs": []
    }
  ]
}