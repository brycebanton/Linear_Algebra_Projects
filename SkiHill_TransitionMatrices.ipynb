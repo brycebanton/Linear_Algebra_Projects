{
  "nbformat": 4,
  "nbformat_minor": 0,
  "metadata": {
    "colab": {
      "name": "SkiHill_TransitionMatrices.ipynb",
      "provenance": [],
      "collapsed_sections": [],
      "authorship_tag": "ABX9TyNMoKYjZL0+DQXhBq2PwuEj",
      "include_colab_link": true
    },
    "kernelspec": {
      "name": "python3",
      "display_name": "Python 3"
    }
  },
  "cells": [
    {
      "cell_type": "markdown",
      "metadata": {
        "id": "view-in-github",
        "colab_type": "text"
      },
      "source": [
        "<a href=\"https://colab.research.google.com/github/brycebanton/Linear_Algebra_Projects/blob/main/SkiHill_TransitionMatrices.ipynb\" target=\"_parent\"><img src=\"https://colab.research.google.com/assets/colab-badge.svg\" alt=\"Open In Colab\"/></a>"
      ]
    },
    {
      "cell_type": "code",
      "metadata": {
        "id": "zTfyEuja3ScM"
      },
      "source": [
        "import numpy as np\r\n",
        "from numpy import c_\r\n",
        "\r\n",
        "ll = \"loaded\""
      ],
      "execution_count": 2,
      "outputs": []
    },
    {
      "cell_type": "code",
      "metadata": {
        "colab": {
          "base_uri": "https://localhost:8080/"
        },
        "id": "jjpRoOcb3Mwd",
        "outputId": "1c117eeb-ff4d-48ea-a991-4eb36765d825"
      },
      "source": [
        "# create the matrix M:\r\n",
        "M = np.matrix([[50/140, 0, 30/140, 20/140],\r\n",
        "               [90/140, 0, 0, 0],\r\n",
        "               [0, 90/90, 80/140, 40/140],\r\n",
        "               [0, 0, 30/140, 80/140]])\r\n",
        "M"
      ],
      "execution_count": null,
      "outputs": [
        {
          "output_type": "execute_result",
          "data": {
            "text/plain": [
              "matrix([[0.35714286, 0.        , 0.21428571, 0.14285714],\n",
              "        [0.64285714, 0.        , 0.        , 0.        ],\n",
              "        [0.        , 1.        , 0.57142857, 0.28571429],\n",
              "        [0.        , 0.        , 0.21428571, 0.57142857]])"
            ]
          },
          "metadata": {
            "tags": []
          },
          "execution_count": 2
        }
      ]
    },
    {
      "cell_type": "code",
      "metadata": {
        "colab": {
          "base_uri": "https://localhost:8080/"
        },
        "id": "GcDRArmc3XI6",
        "outputId": "0bf2970b-52a7-4540-c295-4e60ce8d9b49"
      },
      "source": [
        "#  The initial state of the system:\r\n",
        "x0 = np.matrix([[980], [0], [0], [0]])\r\n",
        "\r\n",
        "#Make a matrix, where each column is the result \r\n",
        "#of applying the matrix multiple times to the initial state x0:\r\n",
        "\r\n",
        "X = np.c_[x0, M*x0, M**2 * x0, M**3 * x0, M**4 * x0, M**5 * x0, M**10 * x0, M**15 * x0]\r\n",
        "\r\n",
        "#print out the X matrix, rounding the entries to 2 decimal places\r\n",
        "print(X.round(2))"
      ],
      "execution_count": null,
      "outputs": [
        {
          "output_type": "stream",
          "text": [
            "[[980.   350.   125.   179.64 208.8  200.62 195.31 195.3 ]\n",
            " [  0.   630.   225.    80.36 115.48 134.23 125.64 125.55]\n",
            " [  0.     0.   630.   585.   453.21 432.32 439.48 439.43]\n",
            " [  0.     0.     0.   135.   202.5  212.83 219.57 219.71]]\n"
          ],
          "name": "stdout"
        }
      ]
    },
    {
      "cell_type": "code",
      "metadata": {
        "colab": {
          "base_uri": "https://localhost:8080/",
          "height": 295
        },
        "id": "5BkA1Zkc3fDh",
        "outputId": "d8676a03-4c2a-4ed3-af10-f1947af8fc77"
      },
      "source": [
        "import matplotlib.pyplot as plt\r\n",
        " \r\n",
        "x  = [0, 1, 2, 3, 4, 5, 10, 15]\r\n",
        "plt.plot(x, np.array(X[0])[0], label=\"Bunny Hill\")\r\n",
        "plt.plot(x, np.array(X[1])[0], label=\"Green Triangle\")\r\n",
        "plt.plot(x, np.array(X[2])[0], label=\"Double Black Diamond\")\r\n",
        "plt.plot(x, np.array(X[3])[0], label=\"Moguls\")\r\n",
        "plt.plot()\r\n",
        "\r\n",
        "plt.xlabel(\"# of Runs\")  # Update this label\r\n",
        "plt.ylabel(\"# of Skiers\")  # Update this label\r\n",
        "plt.title(\"# Of Skiers on Each Run\")  # Update the title\r\n",
        "plt.legend()\r\n",
        "plt.show()"
      ],
      "execution_count": null,
      "outputs": [
        {
          "output_type": "display_data",
          "data": {
            "image/png": "[encoded data removed]",
            "text/plain": [
              "<Figure size 432x288 with 1 Axes>"
            ]
          },
          "metadata": {
            "tags": [],
            "needs_background": "light"
          }
        }
      ]
    },
    {
      "cell_type": "markdown",
      "metadata": {
        "id": "QaUGqtEy3rV9"
      },
      "source": [
        "# Question 6:\r\n",
        "\r\n",
        "Each ski run and chair lift ride takes approximately 12 minutes.  Where should the Chalet place their billboard to reacch the maximum number of skiers just before lunch?\r\n",
        "\r\n",
        "Insert your code to answer this question.  Be sure to explain your reasoning with your answer in the packet."
      ]
    },
    {
      "cell_type": "markdown",
      "metadata": {
        "id": "h5q2BkAaNDMk"
      },
      "source": [
        "They should place their bill board betwen the double black diamond because that is where the most amount of people are. Assuming the higher runs (like run 10) is later in the day."
      ]
    },
    {
      "cell_type": "code",
      "metadata": {
        "id": "tV_BTX7ePwUM"
      },
      "source": [
        "M = np.matrix([[50/140, 0, 30/140, 20/140],\r\n",
        "               [90/140, 0, 0, 0],\r\n",
        "               [0, 90/90, 80/140, 40/140],\r\n",
        "               [0, 0, 30/140, 80/140]])\r\n",
        "M"
      ],
      "execution_count": null,
      "outputs": []
    },
    {
      "cell_type": "code",
      "metadata": {
        "colab": {
          "base_uri": "https://localhost:8080/"
        },
        "id": "16azwwlSPv_G",
        "outputId": "b6410913-d93f-413c-949f-9c203ebda304"
      },
      "source": [
        "#  The initial state of the system:\r\n",
        "x0 = np.matrix([[980], [0], [0], [0],[0]])\r\n",
        "\r\n",
        "#Make a matrix, where each column is the result \r\n",
        "#of applying the matrix multiple times to the initial state x0:\r\n",
        "\r\n",
        "X = np.c_[x0, M*x0, M**2 * x0, M**3 * x0, M**4 * x0, M**5 * x0, M**10 * x0, M**15 * x0,M**20 *x0]\r\n",
        "\r\n",
        "#print out the X matrix, rounding the entries to 2 decimal places\r\n",
        "print(X.round(2))"
      ],
      "execution_count": null,
      "outputs": [
        {
          "output_type": "stream",
          "text": [
            "[[ 980.    350.    125.    319.64  443.8   427.76  689.65 1159.89 1945.33]\n",
            " [   0.    630.    225.     80.36  205.48  285.3   402.45  672.32 1127.71]\n",
            " [   0.      0.    630.    585.    453.21  522.32  948.13 1587.66 2662.17]\n",
            " [   0.      0.      0.    135.    202.5   212.83  375.8   632.79 1061.31]\n",
            " [   0.      0.    140.    185.    143.21  142.78  263.2   441.57  740.41]]\n"
          ],
          "name": "stdout"
        }
      ]
    },
    {
      "cell_type": "markdown",
      "metadata": {
        "id": "ICQrnN_o3yhj"
      },
      "source": [
        "#Question 7:\r\n",
        "Does our answer change if the skiers were able to do one more run in the morning than you had estimated?\r\n",
        "\r\n",
        "Insert your code to answer this question. Be sure to explain your reasoning with your answer in the packet.*italicized text*"
      ]
    },
    {
      "cell_type": "markdown",
      "metadata": {
        "id": "CdEo4oscO17o"
      },
      "source": [
        "No, because the double black diamond is the busiest throughout the whole day. Even after run 20 it still has the highest amount of people"
      ]
    },
    {
      "cell_type": "markdown",
      "metadata": {
        "id": "f2tSgKOs36Zz"
      },
      "source": [
        "#Homework for Markov Chanins and Skiing\r\n",
        "\r\n",
        "Answer the following two situations on the printed homework.  The questions are copied here for your convenience - but you will turn in your homework pages with your answers written on those pages.\r\n",
        "\r\n",
        "## Situation 1:  \r\n",
        "\r\n",
        "We use the same set-up as the previous ski problem, except that we assume these changes to the initial data used to form matrix $M$:\r\n",
        "\r\n",
        "* After each run, 20 skiers from the Green Triangle head to the Chalet instead of to the Double Black Diamond.\r\n",
        "* After each run, 30 skiers from the Double Black Diamond go to the Chalet instead of going back to the Double Black Diamond run.\r\n",
        "* On each run, all skiers leaving the lodge go to the Bunny Hill.\r\n",
        "\r\n",
        "\r\n",
        "## HW 1:\r\n",
        "\r\n",
        "What is your new matrix system for this modification?  Give your new system and explain how you modified your old system to fit this new situation."
      ]
    },
    {
      "cell_type": "code",
      "metadata": {
        "colab": {
          "base_uri": "https://localhost:8080/"
        },
        "id": "voe5ordjRVRA",
        "outputId": "50bc8109-f348-4b84-b471-5577cac85d20"
      },
      "source": [
        "MM = np.matrix([[50/140, 0, 30/140, 20/140,140/140],\r\n",
        "               [90/140, 0, 0, 0,0],\r\n",
        "               [0, 70/90, 50/140, 40/140,0],\r\n",
        "               [0, 0, 30/140, 80/140,0],\r\n",
        "               [0,20/90,30/140,0,0]])\r\n",
        "MM"
      ],
      "execution_count": null,
      "outputs": [
        {
          "output_type": "execute_result",
          "data": {
            "text/plain": [
              "matrix([[0.35714286, 0.        , 0.21428571, 0.14285714, 1.        ],\n",
              "        [0.64285714, 0.        , 0.        , 0.        , 0.        ],\n",
              "        [0.        , 0.77777778, 0.35714286, 0.28571429, 0.        ],\n",
              "        [0.        , 0.        , 0.21428571, 0.57142857, 0.        ],\n",
              "        [0.        , 0.22222222, 0.21428571, 0.        , 0.        ]])"
            ]
          },
          "metadata": {
            "tags": []
          },
          "execution_count": 30
        }
      ]
    },
    {
      "cell_type": "code",
      "metadata": {
        "colab": {
          "base_uri": "https://localhost:8080/"
        },
        "id": "16TRrjWYTYF4",
        "outputId": "22c374ab-00ef-4a84-9e77-1c78b0288a47"
      },
      "source": [
        "#  The initial state of the system:\r\n",
        "x0 = np.matrix([[980], [0], [0], [0],[0]])\r\n",
        "\r\n",
        "#Make a matrix, where each column is the result \r\n",
        "#of applying the matrix multiple times to the initial state x0:\r\n",
        "\r\n",
        "X = np.c_[x0, MM*x0, MM**2 * x0, MM**3 * x0, MM**4 * x0, MM**5 * x0, MM**10 * x0, MM**15 * x0]\r\n",
        "\r\n",
        "#print out the X matrix, rounding the entries to 2 decimal places\r\n",
        "print(X.round(2))"
      ],
      "execution_count": null,
      "outputs": [
        {
          "output_type": "stream",
          "text": [
            "[[980.   350.   125.   289.64 348.44 283.19 278.16 280.06]\n",
            " [  0.   630.   225.    80.36 186.2  224.   179.84 179.88]\n",
            " [  0.     0.   490.   350.   217.5  261.07 282.57 280.02]\n",
            " [  0.     0.     0.   105.   135.   123.75 138.71 139.99]\n",
            " [  0.     0.   140.   155.    92.86  87.98 100.72 100.05]]\n"
          ],
          "name": "stdout"
        }
      ]
    },
    {
      "cell_type": "markdown",
      "metadata": {
        "id": "kGGBi-gg4AMQ"
      },
      "source": [
        "## HW 2: \r\n",
        "\r\n",
        "Long term, did changing the system affect which ski run was most popular?\r\n",
        "\r\n",
        "Note:  It may be helpful to copy some of the code from above to answer this question. \r\n"
      ]
    },
    {
      "cell_type": "code",
      "metadata": {
        "colab": {
          "base_uri": "https://localhost:8080/",
          "height": 295
        },
        "id": "EX-QFi7RSHMq",
        "outputId": "138c62c6-57b1-4dd3-fe51-66d572ff5ef8"
      },
      "source": [
        "x  = [0, 1, 2, 3, 4, 5, 10, 15]\r\n",
        "plt.plot(x, np.array(X[0])[0], label=\"Bunny Hill\")\r\n",
        "plt.plot(x, np.array(X[1])[0], label=\"Green Triangle\")\r\n",
        "plt.plot(x, np.array(X[2])[0], label=\"Double Black Diamond\")\r\n",
        "plt.plot(x, np.array(X[3])[0], label=\"Moguls\")\r\n",
        "plt.plot()\r\n",
        "\r\n",
        "plt.xlabel(\"# of Runs\")  # Update this label\r\n",
        "plt.ylabel(\"# of Skiers\")  # Update this label\r\n",
        "plt.title(\"# Of Skiers on Each Run\")  # Update the title\r\n",
        "plt.legend()\r\n",
        "plt.show()"
      ],
      "execution_count": null,
      "outputs": [
        {
          "output_type": "display_data",
          "data": {
            "image/png": "[encoded data removed]",
            "text/plain": [
              "<Figure size 432x288 with 1 Axes>"
            ]
          },
          "metadata": {
            "tags": [],
            "needs_background": "light"
          }
        }
      ]
    },
    {
      "cell_type": "markdown",
      "metadata": {
        "id": "9Dwch5SxUXp-"
      },
      "source": [
        "Yes changing the system affected the ski runs. Bunny Hill becomes more popular more closer to the afternoon. Moguls stayed low."
      ]
    },
    {
      "cell_type": "markdown",
      "metadata": {
        "id": "v7D8ICY04B_P"
      },
      "source": [
        "# Situation 2:  \r\n",
        "\r\n",
        "People who enter the ski lodge don't return immediately to the Bunny Hill. Instead, they get hot chocolate and sit for, in effect, 3 ski runs. In this situation, where do most people spend their time during a day of skiing?\r\n",
        "\r\n",
        "## HW 3:  \r\n",
        "\r\n",
        "What is your new matrix system for this modification?  Give your new system and explain how you modified your old system to fit this new situation."
      ]
    },
    {
      "cell_type": "code",
      "metadata": {
        "colab": {
          "base_uri": "https://localhost:8080/"
        },
        "id": "Ir_REfLN3zxJ",
        "outputId": "aa2841d7-a6f7-410d-ad6e-72ac56b113ee"
      },
      "source": [
        "MMM = np.matrix([[50/140, 0, 30/140, 20/140,1/4],\r\n",
        "               [90/140, 0, 0, 0,0],\r\n",
        "               [0, 70/90, 50/140, 40/140,0],\r\n",
        "               [0, 0, 30/140, 80/140,0],\r\n",
        "               [0,20/90,30/140,0,3/4]])\r\n",
        "MMM"
      ],
      "execution_count": null,
      "outputs": [
        {
          "output_type": "execute_result",
          "data": {
            "text/plain": [
              "matrix([[0.35714286, 0.        , 0.21428571, 0.14285714, 0.25      ],\n",
              "        [0.64285714, 0.        , 0.        , 0.        , 0.        ],\n",
              "        [0.        , 0.77777778, 0.35714286, 0.28571429, 0.        ],\n",
              "        [0.        , 0.        , 0.21428571, 0.57142857, 0.        ],\n",
              "        [0.        , 0.22222222, 0.21428571, 0.        , 0.75      ]])"
            ]
          },
          "metadata": {
            "tags": []
          },
          "execution_count": 37
        }
      ]
    },
    {
      "cell_type": "code",
      "metadata": {
        "colab": {
          "base_uri": "https://localhost:8080/"
        },
        "id": "llSf8uLqVT6m",
        "outputId": "32367f53-96c4-46b0-81fa-b4e1217a93d2"
      },
      "source": [
        "#  The initial state of the system:\r\n",
        "x0 = np.matrix([[980], [0], [0], [0],[0]])\r\n",
        "\r\n",
        "#Make a matrix, where each column is the result \r\n",
        "#of applying the matrix multiple times to the initial state x0:\r\n",
        "\r\n",
        "X = np.c_[x0, MMM*x0, MMM**2 * x0, MMM**3 * x0, MMM**4 * x0, MMM**5 * x0, MMM**10 * x0, MMM**15 * x0]\r\n",
        "\r\n",
        "#print out the X matrix, rounding the entries to 2 decimal places\r\n",
        "print(X.round(2))"
      ],
      "execution_count": null,
      "outputs": [
        {
          "output_type": "stream",
          "text": [
            "[[980.   350.   125.   184.64 220.94 216.77 214.05 214.33]\n",
            " [  0.   630.   225.    80.36 118.7  142.04 137.57 137.77]\n",
            " [  0.     0.   490.   350.   217.5  208.57 215.45 214.54]\n",
            " [  0.     0.     0.   105.   135.   123.75 109.3  107.51]\n",
            " [  0.     0.   140.   260.   287.86 288.88 303.63 305.86]]\n"
          ],
          "name": "stdout"
        }
      ]
    },
    {
      "cell_type": "code",
      "metadata": {
        "colab": {
          "base_uri": "https://localhost:8080/",
          "height": 295
        },
        "id": "X65ubkXDVQ5u",
        "outputId": "05465b6e-e0f8-4f6d-ecea-a82cad06a143"
      },
      "source": [
        "x  = [0, 1, 2, 3, 4, 5, 10, 15]\r\n",
        "plt.plot(x, np.array(X[0])[0], label=\"Bunny Hill\")\r\n",
        "plt.plot(x, np.array(X[1])[0], label=\"Green Triangle\")\r\n",
        "plt.plot(x, np.array(X[2])[0], label=\"Double Black Diamond\")\r\n",
        "plt.plot(x, np.array(X[3])[0], label=\"Moguls\")\r\n",
        "plt.plot(x, np.array(X[4])[0], label=\"Chalet\")\r\n",
        "plt.plot()\r\n",
        "\r\n",
        "plt.xlabel(\"# of Runs\")  # Update this label\r\n",
        "plt.ylabel(\"# of Skiers\")  # Update this label\r\n",
        "plt.title(\"# Of Skiers on Each Run\")  # Update the title\r\n",
        "plt.legend()\r\n",
        "plt.show()"
      ],
      "execution_count": null,
      "outputs": [
        {
          "output_type": "display_data",
          "data": {
            "image/png": "[encoded data removed]",
            "text/plain": [
              "<Figure size 432x288 with 1 Axes>"
            ]
          },
          "metadata": {
            "tags": [],
            "needs_background": "light"
          }
        }
      ]
    },
    {
      "cell_type": "markdown",
      "metadata": {
        "id": "Zaqbh-f24I4h"
      },
      "source": [
        "## HW 4:\r\n",
        "\r\n",
        "Long term, did changing the system affect which ski run was most popular?"
      ]
    },
    {
      "cell_type": "markdown",
      "metadata": {
        "id": "ANgYMhXLVuOe"
      },
      "source": [
        "Yes, long term there are more people in the chalet when getting closer to the afternoon hours"
      ]
    },
    {
      "cell_type": "markdown",
      "metadata": {
        "id": "UhTpygxQ4Kka"
      },
      "source": [
        "# Situation 3:\r\n",
        "\r\n",
        "## Markov Chains and Transformation Matrix Project:\r\n",
        "\r\n",
        "Copy and modify examples of the code above to model the scenario described in the packet.\r\n",
        "\r\n",
        "Provide a 1-page executive summary of this situation described in the packet.  It should be written with complete sentences and include:\r\n",
        "\r\n",
        "  1.\tThe posed problem\r\n",
        "  2.\tA description of the matrix\r\n",
        "  3.\tAn example showing the initial state, the first, and the second state of the system.\r\n",
        "  4.\tA graph showing how the system evolves over time\r\n",
        "  5.\tA conclusion about the long-term trend of the system."
      ]
    },
    {
      "cell_type": "code",
      "metadata": {
        "id": "GL4Bycgm4NeQ"
      },
      "source": [
        ""
      ],
      "execution_count": null,
      "outputs": []
    },
    {
      "cell_type": "code",
      "metadata": {
        "id": "VTJ7afqH4-1p"
      },
      "source": [
        "b = np.matrix([[75], [75], [75],[75]])"
      ],
      "execution_count": 12,
      "outputs": []
    },
    {
      "cell_type": "code",
      "metadata": {
        "id": "M3XjABIu4--l",
        "colab": {
          "base_uri": "https://localhost:8080/"
        },
        "outputId": "92b3e00e-fe8b-4aa5-c65c-3ca269a3e1db"
      },
      "source": [
        "doses = np.matrix([[40/100, 20/100, 50/100, 0],\r\n",
        "                   [30/100, 40/100, 0, 0],\r\n",
        "                   [30/100, 40/100, 0, 0],\r\n",
        "                   [0, 0, 50/100, 1]])\r\n",
        "doses"
      ],
      "execution_count": 3,
      "outputs": [
        {
          "output_type": "execute_result",
          "data": {
            "text/plain": [
              "matrix([[0.4, 0.2, 0.5, 0. ],\n",
              "        [0.3, 0.4, 0. , 0. ],\n",
              "        [0.3, 0.4, 0. , 0. ],\n",
              "        [0. , 0. , 0.5, 1. ]])"
            ]
          },
          "metadata": {
            "tags": []
          },
          "execution_count": 3
        }
      ]
    },
    {
      "cell_type": "code",
      "metadata": {
        "id": "6i2oTVxQ4_C-",
        "colab": {
          "base_uri": "https://localhost:8080/"
        },
        "outputId": "5d286ffd-4fde-4a74-ed28-50dcad59880a"
      },
      "source": [
        "#  The initial state of the system:\r\n",
        "x0 = np.matrix([[100], [200], [0], [0]])\r\n",
        "\r\n",
        "#Make a matrix, where each column is the result \r\n",
        "#of applying the matrix multiple times to the initial state x0:\r\n",
        "\r\n",
        "X = np.c_[x0, doses*x0,doses**2* x0, doses**10 * x0, doses**20 * x0,doses**24 * x0]\r\n",
        "\r\n",
        "#print out the X matrix, rounding the entries to 2 decimal places\r\n",
        "print(X.round(2))"
      ],
      "execution_count": 8,
      "outputs": [
        {
          "output_type": "stream",
          "text": [
            "[[100.    80.   109.    31.33   6.8    3.69]\n",
            " [200.   110.    68.    20.51   4.45   2.41]\n",
            " [  0.   110.    68.    20.51   4.45   2.41]\n",
            " [  0.     0.    55.   227.64 284.31 291.49]]\n"
          ],
          "name": "stdout"
        }
      ]
    },
    {
      "cell_type": "code",
      "metadata": {
        "id": "qxY2lWez5Ulw",
        "outputId": "5a21d8a9-85c3-4717-e9ce-1d821a903d9f",
        "colab": {
          "base_uri": "https://localhost:8080/"
        }
      },
      "source": [
        "lll = \" correctly!\"\r\n",
        "def rref(matrix):\r\n",
        "    A = np.array(matrix, dtype=np.float64)\r\n",
        "    \r\n",
        "    r = 0 #row\r\n",
        "    c = 0 #column\r\n",
        "\r\n",
        "    (maxr, maxc) = A.shape\r\n",
        "\r\n",
        "    prev_row_pivot = -1   # The previous row with a leading term:\r\n",
        "    tmp_pivot_row = -1\r\n",
        "    this_pivot_row = -1\r\n",
        "\r\n",
        "    for c in range(maxc):  # go through each column\r\n",
        "      tmp_pivot_row = -1  # reset the tmp pivot row\r\n",
        "      this_pivot_row = -1  # reset this pivot row\r\n",
        "      for r in range(maxr):  # Find the leading term in this column below prev_row_pivot\r\n",
        "        if ((r > prev_row_pivot) and (A[r][c] != 0.0)):\r\n",
        "          tmp_pivot_row = r  # find the new pivot row\r\n",
        "      if (tmp_pivot_row > -1):  # we found a candidate for the leading term:\r\n",
        "        #swap row this_pivot_row with (prev_row_pivot + 1)\r\n",
        "        A[[tmp_pivot_row, prev_row_pivot+1]] = A[[prev_row_pivot + 1, tmp_pivot_row]]\r\n",
        "        #set this_pivot_row to prev_row_pivot+1\r\n",
        "        this_pivot_row = prev_row_pivot + 1\r\n",
        "        #Now, normalize the row based on the pivot value:\r\n",
        "        A[ this_pivot_row ] = A[ this_pivot_row ] / A[ this_pivot_row ][c]\r\n",
        "        #Then, use this row to force 0's above and below the pivot entry:\r\n",
        "        #subtract multiples of of the this_pivot_row row from the others\r\n",
        "        for r_ in range(len(A)):\r\n",
        "            if r_ != this_pivot_row:\r\n",
        "                A[r_] = A[r_] - A[this_pivot_row] * A[r_][c] / A[this_pivot_row][c]\r\n",
        "        prev_row_pivot = this_pivot_row\r\n",
        "    return A    \r\n",
        "    \r\n",
        "    \r\n",
        "\r\n",
        "print(\">> The page \", ll, lll)"
      ],
      "execution_count": 10,
      "outputs": [
        {
          "output_type": "stream",
          "text": [
            ">> The page  loaded  correctly!\n"
          ],
          "name": "stdout"
        }
      ]
    },
    {
      "cell_type": "code",
      "metadata": {
        "id": "ynWGYBvT-Fms",
        "outputId": "209c3135-609f-47a1-df20-ac7852f6f144",
        "colab": {
          "base_uri": "https://localhost:8080/"
        }
      },
      "source": [
        "DDosage = np.c_[doses,b]\r\n",
        "print(DDosage)"
      ],
      "execution_count": 13,
      "outputs": [
        {
          "output_type": "stream",
          "text": [
            "[[ 0.4  0.2  0.5  0.  75. ]\n",
            " [ 0.3  0.4  0.   0.  75. ]\n",
            " [ 0.3  0.4  0.   0.  75. ]\n",
            " [ 0.   0.   0.5  1.  75. ]]\n"
          ],
          "name": "stdout"
        }
      ]
    },
    {
      "cell_type": "code",
      "metadata": {
        "id": "1XF2uGWn9u7i",
        "outputId": "41c49002-0b19-40df-c07e-926138b05def",
        "colab": {
          "base_uri": "https://localhost:8080/"
        }
      },
      "source": [
        "rref(DDosage)"
      ],
      "execution_count": 14,
      "outputs": [
        {
          "output_type": "execute_result",
          "data": {
            "text/plain": [
              "array([[   1.,    0.,    0.,   -4., -150.],\n",
              "       [   0.,    1.,    0.,    3.,  300.],\n",
              "       [   0.,    0.,    1.,    2.,  150.],\n",
              "       [   0.,    0.,    0.,    0.,    0.]])"
            ]
          },
          "metadata": {
            "tags": []
          },
          "execution_count": 14
        }
      ]
    }
  ]
}